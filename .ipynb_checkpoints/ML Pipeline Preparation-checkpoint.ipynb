{
 "cells": [
  {
   "cell_type": "markdown",
   "metadata": {},
   "source": [
    "# ML Pipeline Preparation\n",
    "Follow the instructions below to help you create your ML pipeline.\n",
    "### 1. Import libraries and load data from database.\n",
    "- Import Python libraries\n",
    "- Load dataset from database with [`read_sql_table`](https://pandas.pydata.org/pandas-docs/stable/generated/pandas.read_sql_table.html)\n",
    "- Define feature and target variables X and Y"
   ]
  },
  {
   "cell_type": "code",
   "execution_count": 1,
   "metadata": {},
   "outputs": [],
   "source": [
    "# import libraries\n",
    "import pandas as pd\n",
    "import numpy as np\n",
    "import re\n",
    "import pickle\n",
    "from sqlalchemy import create_engine\n",
    "from nltk.tokenize import sent_tokenize, word_tokenize\n",
    "from nltk.stem.wordnet import WordNetLemmatizer\n",
    "from sklearn.model_selection import train_test_split, GridSearchCV\n",
    "from sklearn.feature_extraction.text import CountVectorizer\n",
    "from sklearn.feature_extraction.text import TfidfTransformer\n",
    "from sklearn.pipeline import Pipeline\n",
    "from sklearn.multioutput import MultiOutputClassifier\n",
    "from sklearn.linear_model import LogisticRegression\n",
    "from sklearn.ensemble import RandomForestClassifier\n",
    "from sklearn.metrics import classification_report, confusion_matrix"
   ]
  },
  {
   "cell_type": "code",
   "execution_count": 2,
   "metadata": {},
   "outputs": [],
   "source": [
    "# load data from database\n",
    "engine = create_engine('sqlite:///data/DisasterResponse.db')\n",
    "df = pd.read_sql_table('DisasterResponse', engine)"
   ]
  },
  {
   "cell_type": "code",
   "execution_count": 3,
   "metadata": {},
   "outputs": [
    {
     "data": {
      "text/plain": [
       "Index(['id', 'message', 'original', 'genre', 'related', 'request', 'offer',\n",
       "       'aid_related', 'medical_help', 'medical_products', 'search_and_rescue',\n",
       "       'security', 'military', 'child_alone', 'water', 'food', 'shelter',\n",
       "       'clothing', 'money', 'missing_people', 'refugees', 'death', 'other_aid',\n",
       "       'infrastructure_related', 'transport', 'buildings', 'electricity',\n",
       "       'tools', 'hospitals', 'shops', 'aid_centers', 'other_infrastructure',\n",
       "       'weather_related', 'floods', 'storm', 'fire', 'earthquake', 'cold',\n",
       "       'other_weather', 'direct_report'],\n",
       "      dtype='object')"
      ]
     },
     "execution_count": 3,
     "metadata": {},
     "output_type": "execute_result"
    }
   ],
   "source": [
    "df.columns"
   ]
  },
  {
   "cell_type": "code",
   "execution_count": 3,
   "metadata": {},
   "outputs": [],
   "source": [
    "X = df['message']\n",
    "Y = df[['related', 'request', 'offer',\n",
    "       'aid_related', 'medical_help', 'medical_products', 'search_and_rescue',\n",
    "       'security', 'military', 'child_alone', 'water', 'food', 'shelter',\n",
    "       'clothing', 'money', 'missing_people', 'refugees', 'death', 'other_aid',\n",
    "       'infrastructure_related', 'transport', 'buildings', 'electricity',\n",
    "       'tools', 'hospitals', 'shops', 'aid_centers', 'other_infrastructure',\n",
    "       'weather_related', 'floods', 'storm', 'fire', 'earthquake', 'cold',\n",
    "       'other_weather', 'direct_report']]"
   ]
  },
  {
   "cell_type": "code",
   "execution_count": 5,
   "metadata": {},
   "outputs": [
    {
     "data": {
      "text/plain": [
       "(26180, 40)"
      ]
     },
     "execution_count": 5,
     "metadata": {},
     "output_type": "execute_result"
    }
   ],
   "source": [
    "df.shape"
   ]
  },
  {
   "cell_type": "markdown",
   "metadata": {},
   "source": [
    "### 2. Write a tokenization function to process your text data"
   ]
  },
  {
   "cell_type": "code",
   "execution_count": 4,
   "metadata": {},
   "outputs": [],
   "source": [
    "def tokenize(text):\n",
    "\n",
    "    # tokenize text\n",
    "    tokens = word_tokenize(text)\n",
    "    \n",
    "    # initiate lemmatizer\n",
    "    lemmatizer = WordNetLemmatizer()\n",
    "\n",
    "    # iterate through each token\n",
    "    clean_tokens = [re.sub(r\"[^a-zA-Z0-9]\", \" \", lemmatizer.lemmatize(w).lower().strip()) for w in tokens]\n",
    "\n",
    "    return clean_tokens"
   ]
  },
  {
   "cell_type": "code",
   "execution_count": 5,
   "metadata": {},
   "outputs": [],
   "source": [
    "X_ = df['message'].apply(tokenize)"
   ]
  },
  {
   "cell_type": "code",
   "execution_count": 41,
   "metadata": {},
   "outputs": [
    {
     "data": {
      "text/plain": [
       "(13, 9)"
      ]
     },
     "execution_count": 41,
     "metadata": {},
     "output_type": "execute_result"
    }
   ],
   "source": [
    "len(X_[0]), len(X_[1])"
   ]
  },
  {
   "cell_type": "code",
   "execution_count": 44,
   "metadata": {},
   "outputs": [
    {
     "data": {
      "text/plain": [
       "{'hurricane', 'is', 'it', 'not', 'or', 'over', 'the'}"
      ]
     },
     "execution_count": 44,
     "metadata": {},
     "output_type": "execute_result"
    }
   ],
   "source": [
    "set(X_[1])"
   ]
  },
  {
   "cell_type": "code",
   "execution_count": 6,
   "metadata": {},
   "outputs": [],
   "source": [
    "# initialize count vectorizer object\n",
    "vect = CountVectorizer(tokenizer=tokenize)\n",
    "# get counts of each token (word) in text data\n",
    "BoW = vect.fit_transform(X.tolist())"
   ]
  },
  {
   "cell_type": "code",
   "execution_count": 10,
   "metadata": {},
   "outputs": [
    {
     "data": {
      "text/plain": [
       "<26180x36772 sparse matrix of type '<class 'numpy.int64'>'\n",
       "\twith 571930 stored elements in Compressed Sparse Row format>"
      ]
     },
     "execution_count": 10,
     "metadata": {},
     "output_type": "execute_result"
    }
   ],
   "source": [
    "X"
   ]
  },
  {
   "cell_type": "code",
   "execution_count": 45,
   "metadata": {},
   "outputs": [
    {
     "data": {
      "text/plain": [
       "(13, 7)"
      ]
     },
     "execution_count": 45,
     "metadata": {},
     "output_type": "execute_result"
    }
   ],
   "source": [
    "(X.toarray()[0]>=1).sum(), (X.toarray()[1]>=1).sum()"
   ]
  },
  {
   "cell_type": "code",
   "execution_count": 34,
   "metadata": {},
   "outputs": [
    {
     "data": {
      "text/plain": [
       "('Weather update - a cold front from Cuba that could pass over Haiti',\n",
       " 'Is the Hurricane over or is it not over')"
      ]
     },
     "execution_count": 34,
     "metadata": {},
     "output_type": "execute_result"
    }
   ],
   "source": [
    "corpus[0], corpus[1]"
   ]
  },
  {
   "cell_type": "code",
   "execution_count": 13,
   "metadata": {},
   "outputs": [],
   "source": [
    "transformer = TfidfTransformer()\n",
    "tfidf = transformer.fit_transform(BoW)"
   ]
  },
  {
   "cell_type": "code",
   "execution_count": 19,
   "metadata": {},
   "outputs": [
    {
     "data": {
      "text/plain": [
       "3.335336245019127"
      ]
     },
     "execution_count": 19,
     "metadata": {},
     "output_type": "execute_result"
    }
   ],
   "source": [
    "tfidf.toarray()[0].sum()"
   ]
  },
  {
   "cell_type": "markdown",
   "metadata": {},
   "source": [
    "### 3. Build a machine learning pipeline\n",
    "This machine pipeline should take in the `message` column as input and output classification results on the other 36 categories in the dataset. You may find the [MultiOutputClassifier](http://scikit-learn.org/stable/modules/generated/sklearn.multioutput.MultiOutputClassifier.html) helpful for predicting multiple target variables."
   ]
  },
  {
   "cell_type": "code",
   "execution_count": 7,
   "metadata": {},
   "outputs": [],
   "source": [
    "pipeline = Pipeline([\n",
    "                (\"vect\", CountVectorizer(tokenizer=tokenize)),\n",
    "                (\"tfidf\", TfidfTransformer()),\n",
    "                (\"multi_clf\", MultiOutputClassifier(RandomForestClassifier(random_state = 42)))\n",
    "])"
   ]
  },
  {
   "cell_type": "markdown",
   "metadata": {},
   "source": [
    "### 4. Train pipeline\n",
    "- Split data into train and test sets\n",
    "- Train pipeline"
   ]
  },
  {
   "cell_type": "code",
   "execution_count": 8,
   "metadata": {},
   "outputs": [],
   "source": [
    "X_train, X_test, y_train, y_test = train_test_split(X, Y)"
   ]
  },
  {
   "cell_type": "code",
   "execution_count": 9,
   "metadata": {},
   "outputs": [
    {
     "data": {
      "text/plain": [
       "Pipeline(steps=[('vect',\n",
       "                 CountVectorizer(tokenizer=<function tokenize at 0x0000020A49ECC160>)),\n",
       "                ('tfidf', TfidfTransformer()),\n",
       "                ('multi_clf',\n",
       "                 MultiOutputClassifier(estimator=RandomForestClassifier(random_state=42)))])"
      ]
     },
     "execution_count": 9,
     "metadata": {},
     "output_type": "execute_result"
    }
   ],
   "source": [
    "pipeline.fit(X_train,y_train)"
   ]
  },
  {
   "cell_type": "code",
   "execution_count": 10,
   "metadata": {},
   "outputs": [],
   "source": [
    "y_pred = pipeline.predict(X_test)"
   ]
  },
  {
   "cell_type": "code",
   "execution_count": 37,
   "metadata": {
    "collapsed": true,
    "jupyter": {
     "outputs_hidden": true
    }
   },
   "outputs": [
    {
     "data": {
      "text/html": [
       "<div>\n",
       "<style scoped>\n",
       "    .dataframe tbody tr th:only-of-type {\n",
       "        vertical-align: middle;\n",
       "    }\n",
       "\n",
       "    .dataframe tbody tr th {\n",
       "        vertical-align: top;\n",
       "    }\n",
       "\n",
       "    .dataframe thead th {\n",
       "        text-align: right;\n",
       "    }\n",
       "</style>\n",
       "<table border=\"1\" class=\"dataframe\">\n",
       "  <thead>\n",
       "    <tr style=\"text-align: right;\">\n",
       "      <th></th>\n",
       "      <th>related</th>\n",
       "      <th>request</th>\n",
       "      <th>offer</th>\n",
       "      <th>aid_related</th>\n",
       "      <th>medical_help</th>\n",
       "      <th>medical_products</th>\n",
       "      <th>search_and_rescue</th>\n",
       "      <th>security</th>\n",
       "      <th>military</th>\n",
       "      <th>child_alone</th>\n",
       "      <th>...</th>\n",
       "      <th>aid_centers</th>\n",
       "      <th>other_infrastructure</th>\n",
       "      <th>weather_related</th>\n",
       "      <th>floods</th>\n",
       "      <th>storm</th>\n",
       "      <th>fire</th>\n",
       "      <th>earthquake</th>\n",
       "      <th>cold</th>\n",
       "      <th>other_weather</th>\n",
       "      <th>direct_report</th>\n",
       "    </tr>\n",
       "  </thead>\n",
       "  <tbody>\n",
       "    <tr>\n",
       "      <th>17688</th>\n",
       "      <td>1</td>\n",
       "      <td>0</td>\n",
       "      <td>0</td>\n",
       "      <td>0</td>\n",
       "      <td>0</td>\n",
       "      <td>0</td>\n",
       "      <td>0</td>\n",
       "      <td>0</td>\n",
       "      <td>0</td>\n",
       "      <td>0</td>\n",
       "      <td>...</td>\n",
       "      <td>0</td>\n",
       "      <td>0</td>\n",
       "      <td>1</td>\n",
       "      <td>1</td>\n",
       "      <td>0</td>\n",
       "      <td>0</td>\n",
       "      <td>1</td>\n",
       "      <td>0</td>\n",
       "      <td>0</td>\n",
       "      <td>1</td>\n",
       "    </tr>\n",
       "    <tr>\n",
       "      <th>3058</th>\n",
       "      <td>1</td>\n",
       "      <td>0</td>\n",
       "      <td>0</td>\n",
       "      <td>0</td>\n",
       "      <td>0</td>\n",
       "      <td>0</td>\n",
       "      <td>0</td>\n",
       "      <td>0</td>\n",
       "      <td>0</td>\n",
       "      <td>0</td>\n",
       "      <td>...</td>\n",
       "      <td>0</td>\n",
       "      <td>0</td>\n",
       "      <td>0</td>\n",
       "      <td>0</td>\n",
       "      <td>0</td>\n",
       "      <td>0</td>\n",
       "      <td>0</td>\n",
       "      <td>0</td>\n",
       "      <td>0</td>\n",
       "      <td>0</td>\n",
       "    </tr>\n",
       "    <tr>\n",
       "      <th>10285</th>\n",
       "      <td>1</td>\n",
       "      <td>1</td>\n",
       "      <td>0</td>\n",
       "      <td>1</td>\n",
       "      <td>0</td>\n",
       "      <td>0</td>\n",
       "      <td>0</td>\n",
       "      <td>0</td>\n",
       "      <td>0</td>\n",
       "      <td>0</td>\n",
       "      <td>...</td>\n",
       "      <td>0</td>\n",
       "      <td>0</td>\n",
       "      <td>1</td>\n",
       "      <td>0</td>\n",
       "      <td>0</td>\n",
       "      <td>0</td>\n",
       "      <td>1</td>\n",
       "      <td>0</td>\n",
       "      <td>0</td>\n",
       "      <td>1</td>\n",
       "    </tr>\n",
       "    <tr>\n",
       "      <th>19371</th>\n",
       "      <td>1</td>\n",
       "      <td>0</td>\n",
       "      <td>0</td>\n",
       "      <td>1</td>\n",
       "      <td>1</td>\n",
       "      <td>1</td>\n",
       "      <td>0</td>\n",
       "      <td>0</td>\n",
       "      <td>0</td>\n",
       "      <td>0</td>\n",
       "      <td>...</td>\n",
       "      <td>0</td>\n",
       "      <td>0</td>\n",
       "      <td>1</td>\n",
       "      <td>0</td>\n",
       "      <td>0</td>\n",
       "      <td>0</td>\n",
       "      <td>0</td>\n",
       "      <td>0</td>\n",
       "      <td>1</td>\n",
       "      <td>0</td>\n",
       "    </tr>\n",
       "    <tr>\n",
       "      <th>6351</th>\n",
       "      <td>1</td>\n",
       "      <td>1</td>\n",
       "      <td>0</td>\n",
       "      <td>1</td>\n",
       "      <td>0</td>\n",
       "      <td>0</td>\n",
       "      <td>0</td>\n",
       "      <td>0</td>\n",
       "      <td>0</td>\n",
       "      <td>0</td>\n",
       "      <td>...</td>\n",
       "      <td>0</td>\n",
       "      <td>0</td>\n",
       "      <td>0</td>\n",
       "      <td>0</td>\n",
       "      <td>0</td>\n",
       "      <td>0</td>\n",
       "      <td>0</td>\n",
       "      <td>0</td>\n",
       "      <td>0</td>\n",
       "      <td>1</td>\n",
       "    </tr>\n",
       "    <tr>\n",
       "      <th>...</th>\n",
       "      <td>...</td>\n",
       "      <td>...</td>\n",
       "      <td>...</td>\n",
       "      <td>...</td>\n",
       "      <td>...</td>\n",
       "      <td>...</td>\n",
       "      <td>...</td>\n",
       "      <td>...</td>\n",
       "      <td>...</td>\n",
       "      <td>...</td>\n",
       "      <td>...</td>\n",
       "      <td>...</td>\n",
       "      <td>...</td>\n",
       "      <td>...</td>\n",
       "      <td>...</td>\n",
       "      <td>...</td>\n",
       "      <td>...</td>\n",
       "      <td>...</td>\n",
       "      <td>...</td>\n",
       "      <td>...</td>\n",
       "      <td>...</td>\n",
       "    </tr>\n",
       "    <tr>\n",
       "      <th>22314</th>\n",
       "      <td>1</td>\n",
       "      <td>1</td>\n",
       "      <td>0</td>\n",
       "      <td>1</td>\n",
       "      <td>0</td>\n",
       "      <td>0</td>\n",
       "      <td>0</td>\n",
       "      <td>0</td>\n",
       "      <td>0</td>\n",
       "      <td>0</td>\n",
       "      <td>...</td>\n",
       "      <td>0</td>\n",
       "      <td>0</td>\n",
       "      <td>0</td>\n",
       "      <td>0</td>\n",
       "      <td>0</td>\n",
       "      <td>0</td>\n",
       "      <td>0</td>\n",
       "      <td>0</td>\n",
       "      <td>0</td>\n",
       "      <td>0</td>\n",
       "    </tr>\n",
       "    <tr>\n",
       "      <th>9084</th>\n",
       "      <td>1</td>\n",
       "      <td>1</td>\n",
       "      <td>0</td>\n",
       "      <td>0</td>\n",
       "      <td>0</td>\n",
       "      <td>0</td>\n",
       "      <td>0</td>\n",
       "      <td>0</td>\n",
       "      <td>0</td>\n",
       "      <td>0</td>\n",
       "      <td>...</td>\n",
       "      <td>0</td>\n",
       "      <td>0</td>\n",
       "      <td>1</td>\n",
       "      <td>0</td>\n",
       "      <td>0</td>\n",
       "      <td>0</td>\n",
       "      <td>1</td>\n",
       "      <td>0</td>\n",
       "      <td>0</td>\n",
       "      <td>1</td>\n",
       "    </tr>\n",
       "    <tr>\n",
       "      <th>7053</th>\n",
       "      <td>1</td>\n",
       "      <td>1</td>\n",
       "      <td>0</td>\n",
       "      <td>1</td>\n",
       "      <td>0</td>\n",
       "      <td>0</td>\n",
       "      <td>0</td>\n",
       "      <td>0</td>\n",
       "      <td>0</td>\n",
       "      <td>0</td>\n",
       "      <td>...</td>\n",
       "      <td>0</td>\n",
       "      <td>0</td>\n",
       "      <td>0</td>\n",
       "      <td>0</td>\n",
       "      <td>0</td>\n",
       "      <td>0</td>\n",
       "      <td>0</td>\n",
       "      <td>0</td>\n",
       "      <td>0</td>\n",
       "      <td>1</td>\n",
       "    </tr>\n",
       "    <tr>\n",
       "      <th>883</th>\n",
       "      <td>0</td>\n",
       "      <td>0</td>\n",
       "      <td>0</td>\n",
       "      <td>0</td>\n",
       "      <td>0</td>\n",
       "      <td>0</td>\n",
       "      <td>0</td>\n",
       "      <td>0</td>\n",
       "      <td>0</td>\n",
       "      <td>0</td>\n",
       "      <td>...</td>\n",
       "      <td>0</td>\n",
       "      <td>0</td>\n",
       "      <td>0</td>\n",
       "      <td>0</td>\n",
       "      <td>0</td>\n",
       "      <td>0</td>\n",
       "      <td>0</td>\n",
       "      <td>0</td>\n",
       "      <td>0</td>\n",
       "      <td>0</td>\n",
       "    </tr>\n",
       "    <tr>\n",
       "      <th>6326</th>\n",
       "      <td>1</td>\n",
       "      <td>0</td>\n",
       "      <td>0</td>\n",
       "      <td>0</td>\n",
       "      <td>0</td>\n",
       "      <td>0</td>\n",
       "      <td>0</td>\n",
       "      <td>0</td>\n",
       "      <td>0</td>\n",
       "      <td>0</td>\n",
       "      <td>...</td>\n",
       "      <td>0</td>\n",
       "      <td>0</td>\n",
       "      <td>0</td>\n",
       "      <td>0</td>\n",
       "      <td>0</td>\n",
       "      <td>0</td>\n",
       "      <td>0</td>\n",
       "      <td>0</td>\n",
       "      <td>0</td>\n",
       "      <td>0</td>\n",
       "    </tr>\n",
       "  </tbody>\n",
       "</table>\n",
       "<p>6545 rows × 36 columns</p>\n",
       "</div>"
      ],
      "text/plain": [
       "       related  request  offer  aid_related  medical_help  medical_products  \\\n",
       "17688        1        0      0            0             0                 0   \n",
       "3058         1        0      0            0             0                 0   \n",
       "10285        1        1      0            1             0                 0   \n",
       "19371        1        0      0            1             1                 1   \n",
       "6351         1        1      0            1             0                 0   \n",
       "...        ...      ...    ...          ...           ...               ...   \n",
       "22314        1        1      0            1             0                 0   \n",
       "9084         1        1      0            0             0                 0   \n",
       "7053         1        1      0            1             0                 0   \n",
       "883          0        0      0            0             0                 0   \n",
       "6326         1        0      0            0             0                 0   \n",
       "\n",
       "       search_and_rescue  security  military  child_alone  ...  aid_centers  \\\n",
       "17688                  0         0         0            0  ...            0   \n",
       "3058                   0         0         0            0  ...            0   \n",
       "10285                  0         0         0            0  ...            0   \n",
       "19371                  0         0         0            0  ...            0   \n",
       "6351                   0         0         0            0  ...            0   \n",
       "...                  ...       ...       ...          ...  ...          ...   \n",
       "22314                  0         0         0            0  ...            0   \n",
       "9084                   0         0         0            0  ...            0   \n",
       "7053                   0         0         0            0  ...            0   \n",
       "883                    0         0         0            0  ...            0   \n",
       "6326                   0         0         0            0  ...            0   \n",
       "\n",
       "       other_infrastructure  weather_related  floods  storm  fire  earthquake  \\\n",
       "17688                     0                1       1      0     0           1   \n",
       "3058                      0                0       0      0     0           0   \n",
       "10285                     0                1       0      0     0           1   \n",
       "19371                     0                1       0      0     0           0   \n",
       "6351                      0                0       0      0     0           0   \n",
       "...                     ...              ...     ...    ...   ...         ...   \n",
       "22314                     0                0       0      0     0           0   \n",
       "9084                      0                1       0      0     0           1   \n",
       "7053                      0                0       0      0     0           0   \n",
       "883                       0                0       0      0     0           0   \n",
       "6326                      0                0       0      0     0           0   \n",
       "\n",
       "       cold  other_weather  direct_report  \n",
       "17688     0              0              1  \n",
       "3058      0              0              0  \n",
       "10285     0              0              1  \n",
       "19371     0              1              0  \n",
       "6351      0              0              1  \n",
       "...     ...            ...            ...  \n",
       "22314     0              0              0  \n",
       "9084      0              0              1  \n",
       "7053      0              0              1  \n",
       "883       0              0              0  \n",
       "6326      0              0              0  \n",
       "\n",
       "[6545 rows x 36 columns]"
      ]
     },
     "execution_count": 37,
     "metadata": {},
     "output_type": "execute_result"
    }
   ],
   "source": [
    "y_test"
   ]
  },
  {
   "cell_type": "markdown",
   "metadata": {},
   "source": [
    "### 5. Test your model\n",
    "Report the f1 score, precision and recall for each output category of the dataset. You can do this by iterating through the columns and calling sklearn's `classification_report` on each."
   ]
  },
  {
   "cell_type": "code",
   "execution_count": 15,
   "metadata": {},
   "outputs": [
    {
     "name": "stdout",
     "output_type": "stream",
     "text": [
      "related f1-score = 0.755 precision = 0.782 recall = 0.796\n",
      "request f1-score = 0.886 precision = 0.897 recall = 0.899\n",
      "offer f1-score = 0.993 precision = 0.991 recall = 0.995\n",
      "aid_related f1-score = 0.761 precision = 0.767 recall = 0.767\n",
      "medical_help f1-score = 0.894 precision = 0.902 recall = 0.924\n",
      "medical_products f1-score = 0.930 precision = 0.939 recall = 0.951\n",
      "search_and_rescue f1-score = 0.965 precision = 0.977 recall = 0.976\n",
      "security f1-score = 0.975 precision = 0.968 recall = 0.983\n",
      "military f1-score = 0.948 precision = 0.954 recall = 0.965\n",
      "child_alone f1-score = 1.000 precision = 1.000 recall = 1.000\n",
      "water f1-score = 0.942 precision = 0.952 recall = 0.954\n",
      "food f1-score = 0.920 precision = 0.928 recall = 0.930\n",
      "shelter f1-score = 0.917 precision = 0.930 recall = 0.934\n",
      "clothing f1-score = 0.984 precision = 0.986 recall = 0.989\n",
      "money f1-score = 0.969 precision = 0.979 recall = 0.978\n",
      "missing_people f1-score = 0.983 precision = 0.978 recall = 0.989\n",
      "refugees f1-score = 0.953 precision = 0.954 recall = 0.969\n",
      "death f1-score = 0.949 precision = 0.960 recall = 0.963\n",
      "other_aid f1-score = 0.811 precision = 0.841 recall = 0.870\n",
      "infrastructure_related f1-score = 0.916 precision = 0.901 recall = 0.943\n",
      "transport f1-score = 0.941 precision = 0.951 recall = 0.958\n",
      "buildings f1-score = 0.935 precision = 0.946 recall = 0.954\n",
      "electricity f1-score = 0.970 precision = 0.972 recall = 0.980\n",
      "tools f1-score = 0.991 precision = 0.988 recall = 0.994\n",
      "hospitals f1-score = 0.986 precision = 0.981 recall = 0.991\n",
      "shops f1-score = 0.992 precision = 0.990 recall = 0.995\n",
      "aid_centers f1-score = 0.986 precision = 0.982 recall = 0.991\n",
      "other_infrastructure f1-score = 0.942 precision = 0.943 recall = 0.961\n",
      "weather_related f1-score = 0.865 precision = 0.872 recall = 0.872\n",
      "floods f1-score = 0.933 precision = 0.944 recall = 0.945\n",
      "storm f1-score = 0.925 precision = 0.928 recall = 0.934\n",
      "fire f1-score = 0.985 precision = 0.990 recall = 0.990\n",
      "earthquake f1-score = 0.966 precision = 0.966 recall = 0.968\n",
      "cold f1-score = 0.976 precision = 0.979 recall = 0.983\n",
      "other_weather f1-score = 0.931 precision = 0.939 recall = 0.952\n",
      "direct_report f1-score = 0.840 precision = 0.862 recall = 0.864\n"
     ]
    }
   ],
   "source": [
    "for i, column in enumerate(Y.columns):\n",
    "    report = classification_report(y_test[column], y_pred[:,i], output_dict=True, zero_division=0)\n",
    "    # majority = (y_test[column] == (y_test[column].mode())[0]).sum()/y_test.shape[0]\n",
    "    try:\n",
    "        print(column, \n",
    "              'f1-score = {:.3f}'.format(report['weighted avg']['f1-score']), \n",
    "              # 'majority = {:.3f}'.format(majority),\n",
    "              'precision = {:.3f}'.format(report['weighted avg']['precision']),\n",
    "              'recall = {:.3f}'.format(report['weighted avg']['recall']))\n",
    "    except Exception as err:\n",
    "        print(column, err)"
   ]
  },
  {
   "cell_type": "code",
   "execution_count": 12,
   "metadata": {},
   "outputs": [
    {
     "data": {
      "text/plain": [
       "{'0': {'precision': 0.7299270072992701,\n",
       "  'recall': 0.26007802340702213,\n",
       "  'f1-score': 0.3835091083413231,\n",
       "  'support': 1538},\n",
       " '1': {'precision': 0.8019025367156208,\n",
       "  'recall': 0.9697275479313825,\n",
       "  'f1-score': 0.877866082031607,\n",
       "  'support': 4955},\n",
       " '2': {'precision': 0.4,\n",
       "  'recall': 0.038461538461538464,\n",
       "  'f1-score': 0.07017543859649124,\n",
       "  'support': 52},\n",
       " 'accuracy': 0.7955691367456074,\n",
       " 'macro avg': {'precision': 0.643943181338297,\n",
       "  'recall': 0.42275570326664774,\n",
       "  'f1-score': 0.44385020965647376,\n",
       "  'support': 6545},\n",
       " 'weighted avg': {'precision': 0.781795997960608,\n",
       "  'recall': 0.7955691367456074,\n",
       "  'f1-score': 0.7552807590378281,\n",
       "  'support': 6545}}"
      ]
     },
     "execution_count": 12,
     "metadata": {},
     "output_type": "execute_result"
    }
   ],
   "source": [
    "report"
   ]
  },
  {
   "cell_type": "markdown",
   "metadata": {},
   "source": [
    "### 6. Improve your model\n",
    "Use grid search to find better parameters. "
   ]
  },
  {
   "cell_type": "code",
   "execution_count": 104,
   "metadata": {
    "collapsed": true,
    "jupyter": {
     "outputs_hidden": true
    }
   },
   "outputs": [
    {
     "data": {
      "text/plain": [
       "{'memory': None,\n",
       " 'steps': [('vect',\n",
       "   CountVectorizer(tokenizer=<function tokenize at 0x000001831AC0F280>)),\n",
       "  ('tfidf', TfidfTransformer()),\n",
       "  ('multi_clf', MultiOutputClassifier(estimator=RandomForestClassifier()))],\n",
       " 'verbose': False,\n",
       " 'vect': CountVectorizer(tokenizer=<function tokenize at 0x000001831AC0F280>),\n",
       " 'tfidf': TfidfTransformer(),\n",
       " 'multi_clf': MultiOutputClassifier(estimator=RandomForestClassifier()),\n",
       " 'vect__analyzer': 'word',\n",
       " 'vect__binary': False,\n",
       " 'vect__decode_error': 'strict',\n",
       " 'vect__dtype': numpy.int64,\n",
       " 'vect__encoding': 'utf-8',\n",
       " 'vect__input': 'content',\n",
       " 'vect__lowercase': True,\n",
       " 'vect__max_df': 1.0,\n",
       " 'vect__max_features': None,\n",
       " 'vect__min_df': 1,\n",
       " 'vect__ngram_range': (1, 1),\n",
       " 'vect__preprocessor': None,\n",
       " 'vect__stop_words': None,\n",
       " 'vect__strip_accents': None,\n",
       " 'vect__token_pattern': '(?u)\\\\b\\\\w\\\\w+\\\\b',\n",
       " 'vect__tokenizer': <function __main__.tokenize(text)>,\n",
       " 'vect__vocabulary': None,\n",
       " 'tfidf__norm': 'l2',\n",
       " 'tfidf__smooth_idf': True,\n",
       " 'tfidf__sublinear_tf': False,\n",
       " 'tfidf__use_idf': True,\n",
       " 'multi_clf__estimator__bootstrap': True,\n",
       " 'multi_clf__estimator__ccp_alpha': 0.0,\n",
       " 'multi_clf__estimator__class_weight': None,\n",
       " 'multi_clf__estimator__criterion': 'gini',\n",
       " 'multi_clf__estimator__max_depth': None,\n",
       " 'multi_clf__estimator__max_features': 'auto',\n",
       " 'multi_clf__estimator__max_leaf_nodes': None,\n",
       " 'multi_clf__estimator__max_samples': None,\n",
       " 'multi_clf__estimator__min_impurity_decrease': 0.0,\n",
       " 'multi_clf__estimator__min_impurity_split': None,\n",
       " 'multi_clf__estimator__min_samples_leaf': 1,\n",
       " 'multi_clf__estimator__min_samples_split': 2,\n",
       " 'multi_clf__estimator__min_weight_fraction_leaf': 0.0,\n",
       " 'multi_clf__estimator__n_estimators': 100,\n",
       " 'multi_clf__estimator__n_jobs': None,\n",
       " 'multi_clf__estimator__oob_score': False,\n",
       " 'multi_clf__estimator__random_state': None,\n",
       " 'multi_clf__estimator__verbose': 0,\n",
       " 'multi_clf__estimator__warm_start': False,\n",
       " 'multi_clf__estimator': RandomForestClassifier(),\n",
       " 'multi_clf__n_jobs': None}"
      ]
     },
     "execution_count": 104,
     "metadata": {},
     "output_type": "execute_result"
    }
   ],
   "source": [
    "pipeline.get_params()"
   ]
  },
  {
   "cell_type": "code",
   "execution_count": 39,
   "metadata": {
    "collapsed": true,
    "jupyter": {
     "outputs_hidden": true
    }
   },
   "outputs": [
    {
     "data": {
      "text/plain": [
       "[RandomForestClassifier(random_state=42),\n",
       " RandomForestClassifier(random_state=42),\n",
       " RandomForestClassifier(random_state=42),\n",
       " RandomForestClassifier(random_state=42),\n",
       " RandomForestClassifier(random_state=42),\n",
       " RandomForestClassifier(random_state=42),\n",
       " RandomForestClassifier(random_state=42),\n",
       " RandomForestClassifier(random_state=42),\n",
       " RandomForestClassifier(random_state=42),\n",
       " RandomForestClassifier(random_state=42),\n",
       " RandomForestClassifier(random_state=42),\n",
       " RandomForestClassifier(random_state=42),\n",
       " RandomForestClassifier(random_state=42),\n",
       " RandomForestClassifier(random_state=42),\n",
       " RandomForestClassifier(random_state=42),\n",
       " RandomForestClassifier(random_state=42),\n",
       " RandomForestClassifier(random_state=42),\n",
       " RandomForestClassifier(random_state=42),\n",
       " RandomForestClassifier(random_state=42),\n",
       " RandomForestClassifier(random_state=42),\n",
       " RandomForestClassifier(random_state=42),\n",
       " RandomForestClassifier(random_state=42),\n",
       " RandomForestClassifier(random_state=42),\n",
       " RandomForestClassifier(random_state=42),\n",
       " RandomForestClassifier(random_state=42),\n",
       " RandomForestClassifier(random_state=42),\n",
       " RandomForestClassifier(random_state=42),\n",
       " RandomForestClassifier(random_state=42),\n",
       " RandomForestClassifier(random_state=42),\n",
       " RandomForestClassifier(random_state=42),\n",
       " RandomForestClassifier(random_state=42),\n",
       " RandomForestClassifier(random_state=42),\n",
       " RandomForestClassifier(random_state=42),\n",
       " RandomForestClassifier(random_state=42),\n",
       " RandomForestClassifier(random_state=42),\n",
       " RandomForestClassifier(random_state=42)]"
      ]
     },
     "execution_count": 39,
     "metadata": {},
     "output_type": "execute_result"
    }
   ],
   "source": [
    "pipeline.named_steps.multi_clf.estimators_"
   ]
  },
  {
   "cell_type": "code",
   "execution_count": 42,
   "metadata": {},
   "outputs": [],
   "source": [
    "depths = []"
   ]
  },
  {
   "cell_type": "code",
   "execution_count": 43,
   "metadata": {},
   "outputs": [],
   "source": [
    "for RFS in pipeline.named_steps.multi_clf.estimators_:\n",
    "    for DT in RFS.estimators_:\n",
    "        depths.append(DT.tree_.max_depth)"
   ]
  },
  {
   "cell_type": "code",
   "execution_count": 46,
   "metadata": {},
   "outputs": [],
   "source": [
    "import matplotlib.pyplot as plt"
   ]
  },
  {
   "cell_type": "code",
   "execution_count": 48,
   "metadata": {},
   "outputs": [
    {
     "data": {
      "text/plain": [
       "(array([106., 390., 730., 906., 673., 478., 207.,  86.,  18.,   6.]),\n",
       " array([  0. ,  69.7, 139.4, 209.1, 278.8, 348.5, 418.2, 487.9, 557.6,\n",
       "        627.3, 697. ]),\n",
       " <BarContainer object of 10 artists>)"
      ]
     },
     "execution_count": 48,
     "metadata": {},
     "output_type": "execute_result"
    },
    {
     "data": {
      "image/png": "[encoded data removed]",
      "text/plain": [
       "<Figure size 432x288 with 1 Axes>"
      ]
     },
     "metadata": {
      "needs_background": "light"
     },
     "output_type": "display_data"
    }
   ],
   "source": [
    "plt.hist(depths)"
   ]
  },
  {
   "cell_type": "code",
   "execution_count": 38,
   "metadata": {},
   "outputs": [
    {
     "data": {
      "text/plain": [
       "31349"
      ]
     },
     "execution_count": 38,
     "metadata": {},
     "output_type": "execute_result"
    }
   ],
   "source": [
    "pipeline.named_steps.multi_clf.estimators_[0].estimators_[0].tree_.n_features_"
   ]
  },
  {
   "cell_type": "code",
   "execution_count": 57,
   "metadata": {},
   "outputs": [],
   "source": [
    "def build_model():\n",
    "    pipeline = Pipeline([\n",
    "                (\"vect\", CountVectorizer(tokenizer=tokenize)),\n",
    "                (\"tfidf\", TfidfTransformer()),\n",
    "                (\"multi_clf\", MultiOutputClassifier(RandomForestClassifier(random_state = 42)))\n",
    "])\n",
    "\n",
    "    # specify parameters for grid search\n",
    "    n_estimators = [100,200]\n",
    "    # Number of features to consider at every split\n",
    "    max_features = ['auto', 'log2']\n",
    "    # Maximum number of levels in tree\n",
    "    max_depth = [None, 100, 200, 300, 500]\n",
    "#     # Minimum number of samples required to split a node\n",
    "#     min_samples_split = [2, 5, 10]\n",
    "#     # Minimum number of samples required at each leaf node\n",
    "#     min_samples_leaf = [1, 2, 4]\n",
    "    # Method of selecting samples for training each tree\n",
    "    bootstrap = [True, False]\n",
    "\n",
    "    parameters = {\n",
    "        'multi_clf__estimator__n_estimators': n_estimators,\n",
    "        'multi_clf__estimator__max_features': max_features,\n",
    "        'multi_clf__estimator__max_depth': max_depth,\n",
    "        #'multi_clf__estimator__min_samples_split': min_samples_split,\n",
    "        #'multi_clf__estimator__min_samples_leaf': min_samples_leaf,\n",
    "        'multi_clf__estimator__bootstrap': bootstrap,\n",
    "    }\n",
    "\n",
    "    # create grid search object\n",
    "    cv = GridSearchCV(pipeline, param_grid = parameters, verbose=10)\n",
    "    \n",
    "    return cv"
   ]
  },
  {
   "cell_type": "markdown",
   "metadata": {},
   "source": [
    "### 7. Test your model\n",
    "Show the accuracy, precision, and recall of the tuned model.  \n",
    "\n",
    "Since this project focuses on code quality, process, and  pipelines, there is no minimum performance metric needed to pass. However, make sure to fine tune your models for accuracy, precision and recall to make your project stand out - especially for your portfolio!"
   ]
  },
  {
   "cell_type": "code",
   "execution_count": 58,
   "metadata": {
    "collapsed": true,
    "jupyter": {
     "outputs_hidden": true
    }
   },
   "outputs": [
    {
     "name": "stdout",
     "output_type": "stream",
     "text": [
      "Fitting 5 folds for each of 40 candidates, totalling 200 fits\n",
      "[CV] multi_clf__estimator__bootstrap=True, multi_clf__estimator__max_depth=None, multi_clf__estimator__max_features=auto, multi_clf__estimator__n_estimators=100 \n"
     ]
    },
    {
     "name": "stderr",
     "output_type": "stream",
     "text": [
      "[Parallel(n_jobs=1)]: Using backend SequentialBackend with 1 concurrent workers.\n"
     ]
    },
    {
     "name": "stdout",
     "output_type": "stream",
     "text": [
      "[CV]  multi_clf__estimator__bootstrap=True, multi_clf__estimator__max_depth=None, multi_clf__estimator__max_features=auto, multi_clf__estimator__n_estimators=100, score=0.247, total= 3.9min\n",
      "[CV] multi_clf__estimator__bootstrap=True, multi_clf__estimator__max_depth=None, multi_clf__estimator__max_features=auto, multi_clf__estimator__n_estimators=100 \n"
     ]
    },
    {
     "name": "stderr",
     "output_type": "stream",
     "text": [
      "[Parallel(n_jobs=1)]: Done   1 out of   1 | elapsed:  3.9min remaining:    0.0s\n"
     ]
    },
    {
     "name": "stdout",
     "output_type": "stream",
     "text": [
      "[CV]  multi_clf__estimator__bootstrap=True, multi_clf__estimator__max_depth=None, multi_clf__estimator__max_features=auto, multi_clf__estimator__n_estimators=100, score=0.242, total= 3.9min\n",
      "[CV] multi_clf__estimator__bootstrap=True, multi_clf__estimator__max_depth=None, multi_clf__estimator__max_features=auto, multi_clf__estimator__n_estimators=100 \n"
     ]
    },
    {
     "name": "stderr",
     "output_type": "stream",
     "text": [
      "[Parallel(n_jobs=1)]: Done   2 out of   2 | elapsed:  7.8min remaining:    0.0s\n"
     ]
    },
    {
     "name": "stdout",
     "output_type": "stream",
     "text": [
      "[CV]  multi_clf__estimator__bootstrap=True, multi_clf__estimator__max_depth=None, multi_clf__estimator__max_features=auto, multi_clf__estimator__n_estimators=100, score=0.236, total= 3.9min\n",
      "[CV] multi_clf__estimator__bootstrap=True, multi_clf__estimator__max_depth=None, multi_clf__estimator__max_features=auto, multi_clf__estimator__n_estimators=100 \n"
     ]
    },
    {
     "name": "stderr",
     "output_type": "stream",
     "text": [
      "[Parallel(n_jobs=1)]: Done   3 out of   3 | elapsed: 11.7min remaining:    0.0s\n"
     ]
    },
    {
     "name": "stdout",
     "output_type": "stream",
     "text": [
      "[CV]  multi_clf__estimator__bootstrap=True, multi_clf__estimator__max_depth=None, multi_clf__estimator__max_features=auto, multi_clf__estimator__n_estimators=100, score=0.252, total= 3.9min\n",
      "[CV] multi_clf__estimator__bootstrap=True, multi_clf__estimator__max_depth=None, multi_clf__estimator__max_features=auto, multi_clf__estimator__n_estimators=100 \n"
     ]
    },
    {
     "name": "stderr",
     "output_type": "stream",
     "text": [
      "[Parallel(n_jobs=1)]: Done   4 out of   4 | elapsed: 15.6min remaining:    0.0s\n"
     ]
    },
    {
     "name": "stdout",
     "output_type": "stream",
     "text": [
      "[CV]  multi_clf__estimator__bootstrap=True, multi_clf__estimator__max_depth=None, multi_clf__estimator__max_features=auto, multi_clf__estimator__n_estimators=100, score=0.244, total= 3.9min\n",
      "[CV] multi_clf__estimator__bootstrap=True, multi_clf__estimator__max_depth=None, multi_clf__estimator__max_features=auto, multi_clf__estimator__n_estimators=200 \n"
     ]
    },
    {
     "name": "stderr",
     "output_type": "stream",
     "text": [
      "[Parallel(n_jobs=1)]: Done   5 out of   5 | elapsed: 19.5min remaining:    0.0s\n"
     ]
    },
    {
     "name": "stdout",
     "output_type": "stream",
     "text": [
      "[CV]  multi_clf__estimator__bootstrap=True, multi_clf__estimator__max_depth=None, multi_clf__estimator__max_features=auto, multi_clf__estimator__n_estimators=200, score=0.247, total= 7.8min\n",
      "[CV] multi_clf__estimator__bootstrap=True, multi_clf__estimator__max_depth=None, multi_clf__estimator__max_features=auto, multi_clf__estimator__n_estimators=200 \n"
     ]
    },
    {
     "name": "stderr",
     "output_type": "stream",
     "text": [
      "[Parallel(n_jobs=1)]: Done   6 out of   6 | elapsed: 27.4min remaining:    0.0s\n"
     ]
    },
    {
     "name": "stdout",
     "output_type": "stream",
     "text": [
      "[CV]  multi_clf__estimator__bootstrap=True, multi_clf__estimator__max_depth=None, multi_clf__estimator__max_features=auto, multi_clf__estimator__n_estimators=200, score=0.245, total= 7.8min\n",
      "[CV] multi_clf__estimator__bootstrap=True, multi_clf__estimator__max_depth=None, multi_clf__estimator__max_features=auto, multi_clf__estimator__n_estimators=200 \n"
     ]
    },
    {
     "name": "stderr",
     "output_type": "stream",
     "text": [
      "[Parallel(n_jobs=1)]: Done   7 out of   7 | elapsed: 35.2min remaining:    0.0s\n"
     ]
    },
    {
     "name": "stdout",
     "output_type": "stream",
     "text": [
      "[CV]  multi_clf__estimator__bootstrap=True, multi_clf__estimator__max_depth=None, multi_clf__estimator__max_features=auto, multi_clf__estimator__n_estimators=200, score=0.243, total= 7.8min\n",
      "[CV] multi_clf__estimator__bootstrap=True, multi_clf__estimator__max_depth=None, multi_clf__estimator__max_features=auto, multi_clf__estimator__n_estimators=200 \n"
     ]
    },
    {
     "name": "stderr",
     "output_type": "stream",
     "text": [
      "[Parallel(n_jobs=1)]: Done   8 out of   8 | elapsed: 43.0min remaining:    0.0s\n"
     ]
    },
    {
     "name": "stdout",
     "output_type": "stream",
     "text": [
      "[CV]  multi_clf__estimator__bootstrap=True, multi_clf__estimator__max_depth=None, multi_clf__estimator__max_features=auto, multi_clf__estimator__n_estimators=200, score=0.256, total= 7.9min\n",
      "[CV] multi_clf__estimator__bootstrap=True, multi_clf__estimator__max_depth=None, multi_clf__estimator__max_features=auto, multi_clf__estimator__n_estimators=200 \n"
     ]
    },
    {
     "name": "stderr",
     "output_type": "stream",
     "text": [
      "[Parallel(n_jobs=1)]: Done   9 out of   9 | elapsed: 50.9min remaining:    0.0s\n"
     ]
    },
    {
     "name": "stdout",
     "output_type": "stream",
     "text": [
      "[CV]  multi_clf__estimator__bootstrap=True, multi_clf__estimator__max_depth=None, multi_clf__estimator__max_features=auto, multi_clf__estimator__n_estimators=200, score=0.244, total= 8.0min\n",
      "[CV] multi_clf__estimator__bootstrap=True, multi_clf__estimator__max_depth=None, multi_clf__estimator__max_features=log2, multi_clf__estimator__n_estimators=100 \n",
      "[CV]  multi_clf__estimator__bootstrap=True, multi_clf__estimator__max_depth=None, multi_clf__estimator__max_features=log2, multi_clf__estimator__n_estimators=100, score=0.226, total= 4.2min\n",
      "[CV] multi_clf__estimator__bootstrap=True, multi_clf__estimator__max_depth=None, multi_clf__estimator__max_features=log2, multi_clf__estimator__n_estimators=100 \n",
      "[CV]  multi_clf__estimator__bootstrap=True, multi_clf__estimator__max_depth=None, multi_clf__estimator__max_features=log2, multi_clf__estimator__n_estimators=100, score=0.224, total= 4.2min\n",
      "[CV] multi_clf__estimator__bootstrap=True, multi_clf__estimator__max_depth=None, multi_clf__estimator__max_features=log2, multi_clf__estimator__n_estimators=100 \n",
      "[CV]  multi_clf__estimator__bootstrap=True, multi_clf__estimator__max_depth=None, multi_clf__estimator__max_features=log2, multi_clf__estimator__n_estimators=100, score=0.214, total= 4.4min\n",
      "[CV] multi_clf__estimator__bootstrap=True, multi_clf__estimator__max_depth=None, multi_clf__estimator__max_features=log2, multi_clf__estimator__n_estimators=100 \n",
      "[CV]  multi_clf__estimator__bootstrap=True, multi_clf__estimator__max_depth=None, multi_clf__estimator__max_features=log2, multi_clf__estimator__n_estimators=100, score=0.233, total= 4.4min\n",
      "[CV] multi_clf__estimator__bootstrap=True, multi_clf__estimator__max_depth=None, multi_clf__estimator__max_features=log2, multi_clf__estimator__n_estimators=100 \n",
      "[CV]  multi_clf__estimator__bootstrap=True, multi_clf__estimator__max_depth=None, multi_clf__estimator__max_features=log2, multi_clf__estimator__n_estimators=100, score=0.219, total= 4.3min\n",
      "[CV] multi_clf__estimator__bootstrap=True, multi_clf__estimator__max_depth=None, multi_clf__estimator__max_features=log2, multi_clf__estimator__n_estimators=200 \n",
      "[CV]  multi_clf__estimator__bootstrap=True, multi_clf__estimator__max_depth=None, multi_clf__estimator__max_features=log2, multi_clf__estimator__n_estimators=200, score=0.223, total= 8.8min\n",
      "[CV] multi_clf__estimator__bootstrap=True, multi_clf__estimator__max_depth=None, multi_clf__estimator__max_features=log2, multi_clf__estimator__n_estimators=200 \n",
      "[CV]  multi_clf__estimator__bootstrap=True, multi_clf__estimator__max_depth=None, multi_clf__estimator__max_features=log2, multi_clf__estimator__n_estimators=200, score=0.227, total= 8.7min\n",
      "[CV] multi_clf__estimator__bootstrap=True, multi_clf__estimator__max_depth=None, multi_clf__estimator__max_features=log2, multi_clf__estimator__n_estimators=200 \n",
      "[CV]  multi_clf__estimator__bootstrap=True, multi_clf__estimator__max_depth=None, multi_clf__estimator__max_features=log2, multi_clf__estimator__n_estimators=200, score=0.216, total= 9.2min\n",
      "[CV] multi_clf__estimator__bootstrap=True, multi_clf__estimator__max_depth=None, multi_clf__estimator__max_features=log2, multi_clf__estimator__n_estimators=200 \n",
      "[CV]  multi_clf__estimator__bootstrap=True, multi_clf__estimator__max_depth=None, multi_clf__estimator__max_features=log2, multi_clf__estimator__n_estimators=200, score=0.234, total= 9.5min\n",
      "[CV] multi_clf__estimator__bootstrap=True, multi_clf__estimator__max_depth=None, multi_clf__estimator__max_features=log2, multi_clf__estimator__n_estimators=200 \n",
      "[CV]  multi_clf__estimator__bootstrap=True, multi_clf__estimator__max_depth=None, multi_clf__estimator__max_features=log2, multi_clf__estimator__n_estimators=200, score=0.227, total= 8.8min\n",
      "[CV] multi_clf__estimator__bootstrap=True, multi_clf__estimator__max_depth=100, multi_clf__estimator__max_features=auto, multi_clf__estimator__n_estimators=100 \n",
      "[CV]  multi_clf__estimator__bootstrap=True, multi_clf__estimator__max_depth=100, multi_clf__estimator__max_features=auto, multi_clf__estimator__n_estimators=100, score=0.220, total= 2.6min\n",
      "[CV] multi_clf__estimator__bootstrap=True, multi_clf__estimator__max_depth=100, multi_clf__estimator__max_features=auto, multi_clf__estimator__n_estimators=100 \n",
      "[CV]  multi_clf__estimator__bootstrap=True, multi_clf__estimator__max_depth=100, multi_clf__estimator__max_features=auto, multi_clf__estimator__n_estimators=100, score=0.226, total= 2.6min\n",
      "[CV] multi_clf__estimator__bootstrap=True, multi_clf__estimator__max_depth=100, multi_clf__estimator__max_features=auto, multi_clf__estimator__n_estimators=100 \n",
      "[CV]  multi_clf__estimator__bootstrap=True, multi_clf__estimator__max_depth=100, multi_clf__estimator__max_features=auto, multi_clf__estimator__n_estimators=100, score=0.218, total= 2.5min\n",
      "[CV] multi_clf__estimator__bootstrap=True, multi_clf__estimator__max_depth=100, multi_clf__estimator__max_features=auto, multi_clf__estimator__n_estimators=100 \n",
      "[CV]  multi_clf__estimator__bootstrap=True, multi_clf__estimator__max_depth=100, multi_clf__estimator__max_features=auto, multi_clf__estimator__n_estimators=100, score=0.231, total= 2.4min\n",
      "[CV] multi_clf__estimator__bootstrap=True, multi_clf__estimator__max_depth=100, multi_clf__estimator__max_features=auto, multi_clf__estimator__n_estimators=100 \n",
      "[CV]  multi_clf__estimator__bootstrap=True, multi_clf__estimator__max_depth=100, multi_clf__estimator__max_features=auto, multi_clf__estimator__n_estimators=100, score=0.223, total= 2.5min\n",
      "[CV] multi_clf__estimator__bootstrap=True, multi_clf__estimator__max_depth=100, multi_clf__estimator__max_features=auto, multi_clf__estimator__n_estimators=200 \n",
      "[CV]  multi_clf__estimator__bootstrap=True, multi_clf__estimator__max_depth=100, multi_clf__estimator__max_features=auto, multi_clf__estimator__n_estimators=200, score=0.219, total= 5.0min\n",
      "[CV] multi_clf__estimator__bootstrap=True, multi_clf__estimator__max_depth=100, multi_clf__estimator__max_features=auto, multi_clf__estimator__n_estimators=200 \n",
      "[CV]  multi_clf__estimator__bootstrap=True, multi_clf__estimator__max_depth=100, multi_clf__estimator__max_features=auto, multi_clf__estimator__n_estimators=200, score=0.225, total= 5.1min\n",
      "[CV] multi_clf__estimator__bootstrap=True, multi_clf__estimator__max_depth=100, multi_clf__estimator__max_features=auto, multi_clf__estimator__n_estimators=200 \n",
      "[CV]  multi_clf__estimator__bootstrap=True, multi_clf__estimator__max_depth=100, multi_clf__estimator__max_features=auto, multi_clf__estimator__n_estimators=200, score=0.221, total= 5.0min\n",
      "[CV] multi_clf__estimator__bootstrap=True, multi_clf__estimator__max_depth=100, multi_clf__estimator__max_features=auto, multi_clf__estimator__n_estimators=200 \n",
      "[CV]  multi_clf__estimator__bootstrap=True, multi_clf__estimator__max_depth=100, multi_clf__estimator__max_features=auto, multi_clf__estimator__n_estimators=200, score=0.235, total= 4.9min\n",
      "[CV] multi_clf__estimator__bootstrap=True, multi_clf__estimator__max_depth=100, multi_clf__estimator__max_features=auto, multi_clf__estimator__n_estimators=200 \n",
      "[CV]  multi_clf__estimator__bootstrap=True, multi_clf__estimator__max_depth=100, multi_clf__estimator__max_features=auto, multi_clf__estimator__n_estimators=200, score=0.225, total= 5.1min\n",
      "[CV] multi_clf__estimator__bootstrap=True, multi_clf__estimator__max_depth=100, multi_clf__estimator__max_features=log2, multi_clf__estimator__n_estimators=100 \n",
      "[CV]  multi_clf__estimator__bootstrap=True, multi_clf__estimator__max_depth=100, multi_clf__estimator__max_features=log2, multi_clf__estimator__n_estimators=100, score=0.195, total= 1.0min\n",
      "[CV] multi_clf__estimator__bootstrap=True, multi_clf__estimator__max_depth=100, multi_clf__estimator__max_features=log2, multi_clf__estimator__n_estimators=100 \n",
      "[CV]  multi_clf__estimator__bootstrap=True, multi_clf__estimator__max_depth=100, multi_clf__estimator__max_features=log2, multi_clf__estimator__n_estimators=100, score=0.192, total= 1.0min\n",
      "[CV] multi_clf__estimator__bootstrap=True, multi_clf__estimator__max_depth=100, multi_clf__estimator__max_features=log2, multi_clf__estimator__n_estimators=100 \n",
      "[CV]  multi_clf__estimator__bootstrap=True, multi_clf__estimator__max_depth=100, multi_clf__estimator__max_features=log2, multi_clf__estimator__n_estimators=100, score=0.182, total= 1.0min\n",
      "[CV] multi_clf__estimator__bootstrap=True, multi_clf__estimator__max_depth=100, multi_clf__estimator__max_features=log2, multi_clf__estimator__n_estimators=100 \n",
      "[CV]  multi_clf__estimator__bootstrap=True, multi_clf__estimator__max_depth=100, multi_clf__estimator__max_features=log2, multi_clf__estimator__n_estimators=100, score=0.199, total=  58.5s\n",
      "[CV] multi_clf__estimator__bootstrap=True, multi_clf__estimator__max_depth=100, multi_clf__estimator__max_features=log2, multi_clf__estimator__n_estimators=100 \n",
      "[CV]  multi_clf__estimator__bootstrap=True, multi_clf__estimator__max_depth=100, multi_clf__estimator__max_features=log2, multi_clf__estimator__n_estimators=100, score=0.186, total= 1.1min\n",
      "[CV] multi_clf__estimator__bootstrap=True, multi_clf__estimator__max_depth=100, multi_clf__estimator__max_features=log2, multi_clf__estimator__n_estimators=200 \n",
      "[CV]  multi_clf__estimator__bootstrap=True, multi_clf__estimator__max_depth=100, multi_clf__estimator__max_features=log2, multi_clf__estimator__n_estimators=200, score=0.196, total= 2.2min\n",
      "[CV] multi_clf__estimator__bootstrap=True, multi_clf__estimator__max_depth=100, multi_clf__estimator__max_features=log2, multi_clf__estimator__n_estimators=200 \n",
      "[CV]  multi_clf__estimator__bootstrap=True, multi_clf__estimator__max_depth=100, multi_clf__estimator__max_features=log2, multi_clf__estimator__n_estimators=200, score=0.193, total= 2.2min\n",
      "[CV] multi_clf__estimator__bootstrap=True, multi_clf__estimator__max_depth=100, multi_clf__estimator__max_features=log2, multi_clf__estimator__n_estimators=200 \n",
      "[CV]  multi_clf__estimator__bootstrap=True, multi_clf__estimator__max_depth=100, multi_clf__estimator__max_features=log2, multi_clf__estimator__n_estimators=200, score=0.182, total= 2.2min\n",
      "[CV] multi_clf__estimator__bootstrap=True, multi_clf__estimator__max_depth=100, multi_clf__estimator__max_features=log2, multi_clf__estimator__n_estimators=200 \n",
      "[CV]  multi_clf__estimator__bootstrap=True, multi_clf__estimator__max_depth=100, multi_clf__estimator__max_features=log2, multi_clf__estimator__n_estimators=200, score=0.202, total= 2.1min\n",
      "[CV] multi_clf__estimator__bootstrap=True, multi_clf__estimator__max_depth=100, multi_clf__estimator__max_features=log2, multi_clf__estimator__n_estimators=200 \n",
      "[CV]  multi_clf__estimator__bootstrap=True, multi_clf__estimator__max_depth=100, multi_clf__estimator__max_features=log2, multi_clf__estimator__n_estimators=200, score=0.186, total= 2.1min\n",
      "[CV] multi_clf__estimator__bootstrap=True, multi_clf__estimator__max_depth=200, multi_clf__estimator__max_features=auto, multi_clf__estimator__n_estimators=100 \n",
      "[CV]  multi_clf__estimator__bootstrap=True, multi_clf__estimator__max_depth=200, multi_clf__estimator__max_features=auto, multi_clf__estimator__n_estimators=100, score=0.242, total= 3.5min\n",
      "[CV] multi_clf__estimator__bootstrap=True, multi_clf__estimator__max_depth=200, multi_clf__estimator__max_features=auto, multi_clf__estimator__n_estimators=100 \n",
      "[CV]  multi_clf__estimator__bootstrap=True, multi_clf__estimator__max_depth=200, multi_clf__estimator__max_features=auto, multi_clf__estimator__n_estimators=100, score=0.240, total= 3.5min\n",
      "[CV] multi_clf__estimator__bootstrap=True, multi_clf__estimator__max_depth=200, multi_clf__estimator__max_features=auto, multi_clf__estimator__n_estimators=100 \n",
      "[CV]  multi_clf__estimator__bootstrap=True, multi_clf__estimator__max_depth=200, multi_clf__estimator__max_features=auto, multi_clf__estimator__n_estimators=100, score=0.233, total= 3.5min\n",
      "[CV] multi_clf__estimator__bootstrap=True, multi_clf__estimator__max_depth=200, multi_clf__estimator__max_features=auto, multi_clf__estimator__n_estimators=100 \n",
      "[CV]  multi_clf__estimator__bootstrap=True, multi_clf__estimator__max_depth=200, multi_clf__estimator__max_features=auto, multi_clf__estimator__n_estimators=100, score=0.256, total= 3.5min\n",
      "[CV] multi_clf__estimator__bootstrap=True, multi_clf__estimator__max_depth=200, multi_clf__estimator__max_features=auto, multi_clf__estimator__n_estimators=100 \n",
      "[CV]  multi_clf__estimator__bootstrap=True, multi_clf__estimator__max_depth=200, multi_clf__estimator__max_features=auto, multi_clf__estimator__n_estimators=100, score=0.240, total= 3.5min\n",
      "[CV] multi_clf__estimator__bootstrap=True, multi_clf__estimator__max_depth=200, multi_clf__estimator__max_features=auto, multi_clf__estimator__n_estimators=200 \n",
      "[CV]  multi_clf__estimator__bootstrap=True, multi_clf__estimator__max_depth=200, multi_clf__estimator__max_features=auto, multi_clf__estimator__n_estimators=200, score=0.241, total= 7.1min\n",
      "[CV] multi_clf__estimator__bootstrap=True, multi_clf__estimator__max_depth=200, multi_clf__estimator__max_features=auto, multi_clf__estimator__n_estimators=200 \n",
      "[CV]  multi_clf__estimator__bootstrap=True, multi_clf__estimator__max_depth=200, multi_clf__estimator__max_features=auto, multi_clf__estimator__n_estimators=200, score=0.240, total= 6.8min\n",
      "[CV] multi_clf__estimator__bootstrap=True, multi_clf__estimator__max_depth=200, multi_clf__estimator__max_features=auto, multi_clf__estimator__n_estimators=200 \n",
      "[CV]  multi_clf__estimator__bootstrap=True, multi_clf__estimator__max_depth=200, multi_clf__estimator__max_features=auto, multi_clf__estimator__n_estimators=200, score=0.235, total= 6.5min\n",
      "[CV] multi_clf__estimator__bootstrap=True, multi_clf__estimator__max_depth=200, multi_clf__estimator__max_features=auto, multi_clf__estimator__n_estimators=200 \n",
      "[CV]  multi_clf__estimator__bootstrap=True, multi_clf__estimator__max_depth=200, multi_clf__estimator__max_features=auto, multi_clf__estimator__n_estimators=200, score=0.257, total= 6.8min\n",
      "[CV] multi_clf__estimator__bootstrap=True, multi_clf__estimator__max_depth=200, multi_clf__estimator__max_features=auto, multi_clf__estimator__n_estimators=200 \n",
      "[CV]  multi_clf__estimator__bootstrap=True, multi_clf__estimator__max_depth=200, multi_clf__estimator__max_features=auto, multi_clf__estimator__n_estimators=200, score=0.247, total= 6.8min\n",
      "[CV] multi_clf__estimator__bootstrap=True, multi_clf__estimator__max_depth=200, multi_clf__estimator__max_features=log2, multi_clf__estimator__n_estimators=100 \n",
      "[CV]  multi_clf__estimator__bootstrap=True, multi_clf__estimator__max_depth=200, multi_clf__estimator__max_features=log2, multi_clf__estimator__n_estimators=100, score=0.193, total= 1.8min\n",
      "[CV] multi_clf__estimator__bootstrap=True, multi_clf__estimator__max_depth=200, multi_clf__estimator__max_features=log2, multi_clf__estimator__n_estimators=100 \n",
      "[CV]  multi_clf__estimator__bootstrap=True, multi_clf__estimator__max_depth=200, multi_clf__estimator__max_features=log2, multi_clf__estimator__n_estimators=100, score=0.188, total= 1.8min\n",
      "[CV] multi_clf__estimator__bootstrap=True, multi_clf__estimator__max_depth=200, multi_clf__estimator__max_features=log2, multi_clf__estimator__n_estimators=100 \n",
      "[CV]  multi_clf__estimator__bootstrap=True, multi_clf__estimator__max_depth=200, multi_clf__estimator__max_features=log2, multi_clf__estimator__n_estimators=100, score=0.180, total= 1.8min\n",
      "[CV] multi_clf__estimator__bootstrap=True, multi_clf__estimator__max_depth=200, multi_clf__estimator__max_features=log2, multi_clf__estimator__n_estimators=100 \n",
      "[CV]  multi_clf__estimator__bootstrap=True, multi_clf__estimator__max_depth=200, multi_clf__estimator__max_features=log2, multi_clf__estimator__n_estimators=100, score=0.199, total= 1.8min\n",
      "[CV] multi_clf__estimator__bootstrap=True, multi_clf__estimator__max_depth=200, multi_clf__estimator__max_features=log2, multi_clf__estimator__n_estimators=100 \n",
      "[CV]  multi_clf__estimator__bootstrap=True, multi_clf__estimator__max_depth=200, multi_clf__estimator__max_features=log2, multi_clf__estimator__n_estimators=100, score=0.189, total= 1.8min\n",
      "[CV] multi_clf__estimator__bootstrap=True, multi_clf__estimator__max_depth=200, multi_clf__estimator__max_features=log2, multi_clf__estimator__n_estimators=200 \n",
      "[CV]  multi_clf__estimator__bootstrap=True, multi_clf__estimator__max_depth=200, multi_clf__estimator__max_features=log2, multi_clf__estimator__n_estimators=200, score=0.192, total= 3.7min\n",
      "[CV] multi_clf__estimator__bootstrap=True, multi_clf__estimator__max_depth=200, multi_clf__estimator__max_features=log2, multi_clf__estimator__n_estimators=200 \n",
      "[CV]  multi_clf__estimator__bootstrap=True, multi_clf__estimator__max_depth=200, multi_clf__estimator__max_features=log2, multi_clf__estimator__n_estimators=200, score=0.191, total= 3.6min\n",
      "[CV] multi_clf__estimator__bootstrap=True, multi_clf__estimator__max_depth=200, multi_clf__estimator__max_features=log2, multi_clf__estimator__n_estimators=200 \n",
      "[CV]  multi_clf__estimator__bootstrap=True, multi_clf__estimator__max_depth=200, multi_clf__estimator__max_features=log2, multi_clf__estimator__n_estimators=200, score=0.183, total= 3.7min\n",
      "[CV] multi_clf__estimator__bootstrap=True, multi_clf__estimator__max_depth=200, multi_clf__estimator__max_features=log2, multi_clf__estimator__n_estimators=200 \n",
      "[CV]  multi_clf__estimator__bootstrap=True, multi_clf__estimator__max_depth=200, multi_clf__estimator__max_features=log2, multi_clf__estimator__n_estimators=200, score=0.199, total= 3.6min\n",
      "[CV] multi_clf__estimator__bootstrap=True, multi_clf__estimator__max_depth=200, multi_clf__estimator__max_features=log2, multi_clf__estimator__n_estimators=200 \n",
      "[CV]  multi_clf__estimator__bootstrap=True, multi_clf__estimator__max_depth=200, multi_clf__estimator__max_features=log2, multi_clf__estimator__n_estimators=200, score=0.186, total= 3.6min\n",
      "[CV] multi_clf__estimator__bootstrap=True, multi_clf__estimator__max_depth=300, multi_clf__estimator__max_features=auto, multi_clf__estimator__n_estimators=100 \n",
      "[CV]  multi_clf__estimator__bootstrap=True, multi_clf__estimator__max_depth=300, multi_clf__estimator__max_features=auto, multi_clf__estimator__n_estimators=100, score=0.246, total= 3.8min\n",
      "[CV] multi_clf__estimator__bootstrap=True, multi_clf__estimator__max_depth=300, multi_clf__estimator__max_features=auto, multi_clf__estimator__n_estimators=100 \n",
      "[CV]  multi_clf__estimator__bootstrap=True, multi_clf__estimator__max_depth=300, multi_clf__estimator__max_features=auto, multi_clf__estimator__n_estimators=100, score=0.237, total= 3.7min\n",
      "[CV] multi_clf__estimator__bootstrap=True, multi_clf__estimator__max_depth=300, multi_clf__estimator__max_features=auto, multi_clf__estimator__n_estimators=100 \n",
      "[CV]  multi_clf__estimator__bootstrap=True, multi_clf__estimator__max_depth=300, multi_clf__estimator__max_features=auto, multi_clf__estimator__n_estimators=100, score=0.239, total= 3.8min\n",
      "[CV] multi_clf__estimator__bootstrap=True, multi_clf__estimator__max_depth=300, multi_clf__estimator__max_features=auto, multi_clf__estimator__n_estimators=100 \n",
      "[CV]  multi_clf__estimator__bootstrap=True, multi_clf__estimator__max_depth=300, multi_clf__estimator__max_features=auto, multi_clf__estimator__n_estimators=100, score=0.249, total= 3.7min\n",
      "[CV] multi_clf__estimator__bootstrap=True, multi_clf__estimator__max_depth=300, multi_clf__estimator__max_features=auto, multi_clf__estimator__n_estimators=100 \n",
      "[CV]  multi_clf__estimator__bootstrap=True, multi_clf__estimator__max_depth=300, multi_clf__estimator__max_features=auto, multi_clf__estimator__n_estimators=100, score=0.238, total= 3.8min\n",
      "[CV] multi_clf__estimator__bootstrap=True, multi_clf__estimator__max_depth=300, multi_clf__estimator__max_features=auto, multi_clf__estimator__n_estimators=200 \n",
      "[CV]  multi_clf__estimator__bootstrap=True, multi_clf__estimator__max_depth=300, multi_clf__estimator__max_features=auto, multi_clf__estimator__n_estimators=200, score=0.246, total= 7.5min\n",
      "[CV] multi_clf__estimator__bootstrap=True, multi_clf__estimator__max_depth=300, multi_clf__estimator__max_features=auto, multi_clf__estimator__n_estimators=200 \n",
      "[CV]  multi_clf__estimator__bootstrap=True, multi_clf__estimator__max_depth=300, multi_clf__estimator__max_features=auto, multi_clf__estimator__n_estimators=200, score=0.241, total= 7.4min\n",
      "[CV] multi_clf__estimator__bootstrap=True, multi_clf__estimator__max_depth=300, multi_clf__estimator__max_features=auto, multi_clf__estimator__n_estimators=200 \n",
      "[CV]  multi_clf__estimator__bootstrap=True, multi_clf__estimator__max_depth=300, multi_clf__estimator__max_features=auto, multi_clf__estimator__n_estimators=200, score=0.237, total= 7.5min\n",
      "[CV] multi_clf__estimator__bootstrap=True, multi_clf__estimator__max_depth=300, multi_clf__estimator__max_features=auto, multi_clf__estimator__n_estimators=200 \n",
      "[CV]  multi_clf__estimator__bootstrap=True, multi_clf__estimator__max_depth=300, multi_clf__estimator__max_features=auto, multi_clf__estimator__n_estimators=200, score=0.253, total= 7.5min\n",
      "[CV] multi_clf__estimator__bootstrap=True, multi_clf__estimator__max_depth=300, multi_clf__estimator__max_features=auto, multi_clf__estimator__n_estimators=200 \n",
      "[CV]  multi_clf__estimator__bootstrap=True, multi_clf__estimator__max_depth=300, multi_clf__estimator__max_features=auto, multi_clf__estimator__n_estimators=200, score=0.241, total= 7.5min\n",
      "[CV] multi_clf__estimator__bootstrap=True, multi_clf__estimator__max_depth=300, multi_clf__estimator__max_features=log2, multi_clf__estimator__n_estimators=100 \n",
      "[CV]  multi_clf__estimator__bootstrap=True, multi_clf__estimator__max_depth=300, multi_clf__estimator__max_features=log2, multi_clf__estimator__n_estimators=100, score=0.195, total= 2.5min\n",
      "[CV] multi_clf__estimator__bootstrap=True, multi_clf__estimator__max_depth=300, multi_clf__estimator__max_features=log2, multi_clf__estimator__n_estimators=100 \n",
      "[CV]  multi_clf__estimator__bootstrap=True, multi_clf__estimator__max_depth=300, multi_clf__estimator__max_features=log2, multi_clf__estimator__n_estimators=100, score=0.197, total= 2.5min\n",
      "[CV] multi_clf__estimator__bootstrap=True, multi_clf__estimator__max_depth=300, multi_clf__estimator__max_features=log2, multi_clf__estimator__n_estimators=100 \n",
      "[CV]  multi_clf__estimator__bootstrap=True, multi_clf__estimator__max_depth=300, multi_clf__estimator__max_features=log2, multi_clf__estimator__n_estimators=100, score=0.186, total= 2.5min\n",
      "[CV] multi_clf__estimator__bootstrap=True, multi_clf__estimator__max_depth=300, multi_clf__estimator__max_features=log2, multi_clf__estimator__n_estimators=100 \n",
      "[CV]  multi_clf__estimator__bootstrap=True, multi_clf__estimator__max_depth=300, multi_clf__estimator__max_features=log2, multi_clf__estimator__n_estimators=100, score=0.201, total= 2.4min\n",
      "[CV] multi_clf__estimator__bootstrap=True, multi_clf__estimator__max_depth=300, multi_clf__estimator__max_features=log2, multi_clf__estimator__n_estimators=100 \n",
      "[CV]  multi_clf__estimator__bootstrap=True, multi_clf__estimator__max_depth=300, multi_clf__estimator__max_features=log2, multi_clf__estimator__n_estimators=100, score=0.199, total= 2.5min\n",
      "[CV] multi_clf__estimator__bootstrap=True, multi_clf__estimator__max_depth=300, multi_clf__estimator__max_features=log2, multi_clf__estimator__n_estimators=200 \n",
      "[CV]  multi_clf__estimator__bootstrap=True, multi_clf__estimator__max_depth=300, multi_clf__estimator__max_features=log2, multi_clf__estimator__n_estimators=200, score=0.197, total= 5.0min\n",
      "[CV] multi_clf__estimator__bootstrap=True, multi_clf__estimator__max_depth=300, multi_clf__estimator__max_features=log2, multi_clf__estimator__n_estimators=200 \n",
      "[CV]  multi_clf__estimator__bootstrap=True, multi_clf__estimator__max_depth=300, multi_clf__estimator__max_features=log2, multi_clf__estimator__n_estimators=200, score=0.197, total= 5.0min\n",
      "[CV] multi_clf__estimator__bootstrap=True, multi_clf__estimator__max_depth=300, multi_clf__estimator__max_features=log2, multi_clf__estimator__n_estimators=200 \n",
      "[CV]  multi_clf__estimator__bootstrap=True, multi_clf__estimator__max_depth=300, multi_clf__estimator__max_features=log2, multi_clf__estimator__n_estimators=200, score=0.190, total= 5.0min\n",
      "[CV] multi_clf__estimator__bootstrap=True, multi_clf__estimator__max_depth=300, multi_clf__estimator__max_features=log2, multi_clf__estimator__n_estimators=200 \n",
      "[CV]  multi_clf__estimator__bootstrap=True, multi_clf__estimator__max_depth=300, multi_clf__estimator__max_features=log2, multi_clf__estimator__n_estimators=200, score=0.203, total= 4.9min\n",
      "[CV] multi_clf__estimator__bootstrap=True, multi_clf__estimator__max_depth=300, multi_clf__estimator__max_features=log2, multi_clf__estimator__n_estimators=200 \n",
      "[CV]  multi_clf__estimator__bootstrap=True, multi_clf__estimator__max_depth=300, multi_clf__estimator__max_features=log2, multi_clf__estimator__n_estimators=200, score=0.196, total= 5.0min\n",
      "[CV] multi_clf__estimator__bootstrap=True, multi_clf__estimator__max_depth=500, multi_clf__estimator__max_features=auto, multi_clf__estimator__n_estimators=100 \n",
      "[CV]  multi_clf__estimator__bootstrap=True, multi_clf__estimator__max_depth=500, multi_clf__estimator__max_features=auto, multi_clf__estimator__n_estimators=100, score=0.247, total= 3.9min\n",
      "[CV] multi_clf__estimator__bootstrap=True, multi_clf__estimator__max_depth=500, multi_clf__estimator__max_features=auto, multi_clf__estimator__n_estimators=100 \n",
      "[CV]  multi_clf__estimator__bootstrap=True, multi_clf__estimator__max_depth=500, multi_clf__estimator__max_features=auto, multi_clf__estimator__n_estimators=100, score=0.240, total= 3.8min\n",
      "[CV] multi_clf__estimator__bootstrap=True, multi_clf__estimator__max_depth=500, multi_clf__estimator__max_features=auto, multi_clf__estimator__n_estimators=100 \n",
      "[CV]  multi_clf__estimator__bootstrap=True, multi_clf__estimator__max_depth=500, multi_clf__estimator__max_features=auto, multi_clf__estimator__n_estimators=100, score=0.235, total= 3.8min\n",
      "[CV] multi_clf__estimator__bootstrap=True, multi_clf__estimator__max_depth=500, multi_clf__estimator__max_features=auto, multi_clf__estimator__n_estimators=100 \n",
      "[CV]  multi_clf__estimator__bootstrap=True, multi_clf__estimator__max_depth=500, multi_clf__estimator__max_features=auto, multi_clf__estimator__n_estimators=100, score=0.252, total= 3.8min\n",
      "[CV] multi_clf__estimator__bootstrap=True, multi_clf__estimator__max_depth=500, multi_clf__estimator__max_features=auto, multi_clf__estimator__n_estimators=100 \n",
      "[CV]  multi_clf__estimator__bootstrap=True, multi_clf__estimator__max_depth=500, multi_clf__estimator__max_features=auto, multi_clf__estimator__n_estimators=100, score=0.244, total= 3.8min\n",
      "[CV] multi_clf__estimator__bootstrap=True, multi_clf__estimator__max_depth=500, multi_clf__estimator__max_features=auto, multi_clf__estimator__n_estimators=200 \n",
      "[CV]  multi_clf__estimator__bootstrap=True, multi_clf__estimator__max_depth=500, multi_clf__estimator__max_features=auto, multi_clf__estimator__n_estimators=200, score=0.247, total= 7.7min\n",
      "[CV] multi_clf__estimator__bootstrap=True, multi_clf__estimator__max_depth=500, multi_clf__estimator__max_features=auto, multi_clf__estimator__n_estimators=200 \n",
      "[CV]  multi_clf__estimator__bootstrap=True, multi_clf__estimator__max_depth=500, multi_clf__estimator__max_features=auto, multi_clf__estimator__n_estimators=200, score=0.243, total= 7.6min\n",
      "[CV] multi_clf__estimator__bootstrap=True, multi_clf__estimator__max_depth=500, multi_clf__estimator__max_features=auto, multi_clf__estimator__n_estimators=200 \n",
      "[CV]  multi_clf__estimator__bootstrap=True, multi_clf__estimator__max_depth=500, multi_clf__estimator__max_features=auto, multi_clf__estimator__n_estimators=200, score=0.244, total= 7.6min\n",
      "[CV] multi_clf__estimator__bootstrap=True, multi_clf__estimator__max_depth=500, multi_clf__estimator__max_features=auto, multi_clf__estimator__n_estimators=200 \n",
      "[CV]  multi_clf__estimator__bootstrap=True, multi_clf__estimator__max_depth=500, multi_clf__estimator__max_features=auto, multi_clf__estimator__n_estimators=200, score=0.256, total= 7.7min\n",
      "[CV] multi_clf__estimator__bootstrap=True, multi_clf__estimator__max_depth=500, multi_clf__estimator__max_features=auto, multi_clf__estimator__n_estimators=200 \n",
      "[CV]  multi_clf__estimator__bootstrap=True, multi_clf__estimator__max_depth=500, multi_clf__estimator__max_features=auto, multi_clf__estimator__n_estimators=200, score=0.246, total= 7.7min\n",
      "[CV] multi_clf__estimator__bootstrap=True, multi_clf__estimator__max_depth=500, multi_clf__estimator__max_features=log2, multi_clf__estimator__n_estimators=100 \n",
      "[CV]  multi_clf__estimator__bootstrap=True, multi_clf__estimator__max_depth=500, multi_clf__estimator__max_features=log2, multi_clf__estimator__n_estimators=100, score=0.205, total= 3.4min\n",
      "[CV] multi_clf__estimator__bootstrap=True, multi_clf__estimator__max_depth=500, multi_clf__estimator__max_features=log2, multi_clf__estimator__n_estimators=100 \n",
      "[CV]  multi_clf__estimator__bootstrap=True, multi_clf__estimator__max_depth=500, multi_clf__estimator__max_features=log2, multi_clf__estimator__n_estimators=100, score=0.212, total= 3.3min\n",
      "[CV] multi_clf__estimator__bootstrap=True, multi_clf__estimator__max_depth=500, multi_clf__estimator__max_features=log2, multi_clf__estimator__n_estimators=100 \n",
      "[CV]  multi_clf__estimator__bootstrap=True, multi_clf__estimator__max_depth=500, multi_clf__estimator__max_features=log2, multi_clf__estimator__n_estimators=100, score=0.203, total= 3.3min\n",
      "[CV] multi_clf__estimator__bootstrap=True, multi_clf__estimator__max_depth=500, multi_clf__estimator__max_features=log2, multi_clf__estimator__n_estimators=100 \n",
      "[CV]  multi_clf__estimator__bootstrap=True, multi_clf__estimator__max_depth=500, multi_clf__estimator__max_features=log2, multi_clf__estimator__n_estimators=100, score=0.214, total= 3.3min\n",
      "[CV] multi_clf__estimator__bootstrap=True, multi_clf__estimator__max_depth=500, multi_clf__estimator__max_features=log2, multi_clf__estimator__n_estimators=100 \n",
      "[CV]  multi_clf__estimator__bootstrap=True, multi_clf__estimator__max_depth=500, multi_clf__estimator__max_features=log2, multi_clf__estimator__n_estimators=100, score=0.207, total= 3.3min\n",
      "[CV] multi_clf__estimator__bootstrap=True, multi_clf__estimator__max_depth=500, multi_clf__estimator__max_features=log2, multi_clf__estimator__n_estimators=200 \n",
      "[CV]  multi_clf__estimator__bootstrap=True, multi_clf__estimator__max_depth=500, multi_clf__estimator__max_features=log2, multi_clf__estimator__n_estimators=200, score=0.210, total= 6.6min\n",
      "[CV] multi_clf__estimator__bootstrap=True, multi_clf__estimator__max_depth=500, multi_clf__estimator__max_features=log2, multi_clf__estimator__n_estimators=200 \n",
      "[CV]  multi_clf__estimator__bootstrap=True, multi_clf__estimator__max_depth=500, multi_clf__estimator__max_features=log2, multi_clf__estimator__n_estimators=200, score=0.210, total= 6.6min\n",
      "[CV] multi_clf__estimator__bootstrap=True, multi_clf__estimator__max_depth=500, multi_clf__estimator__max_features=log2, multi_clf__estimator__n_estimators=200 \n",
      "[CV]  multi_clf__estimator__bootstrap=True, multi_clf__estimator__max_depth=500, multi_clf__estimator__max_features=log2, multi_clf__estimator__n_estimators=200, score=0.205, total= 6.6min\n",
      "[CV] multi_clf__estimator__bootstrap=True, multi_clf__estimator__max_depth=500, multi_clf__estimator__max_features=log2, multi_clf__estimator__n_estimators=200 \n",
      "[CV]  multi_clf__estimator__bootstrap=True, multi_clf__estimator__max_depth=500, multi_clf__estimator__max_features=log2, multi_clf__estimator__n_estimators=200, score=0.216, total= 6.6min\n",
      "[CV] multi_clf__estimator__bootstrap=True, multi_clf__estimator__max_depth=500, multi_clf__estimator__max_features=log2, multi_clf__estimator__n_estimators=200 \n",
      "[CV]  multi_clf__estimator__bootstrap=True, multi_clf__estimator__max_depth=500, multi_clf__estimator__max_features=log2, multi_clf__estimator__n_estimators=200, score=0.209, total= 6.6min\n",
      "[CV] multi_clf__estimator__bootstrap=False, multi_clf__estimator__max_depth=None, multi_clf__estimator__max_features=auto, multi_clf__estimator__n_estimators=100 \n",
      "[CV]  multi_clf__estimator__bootstrap=False, multi_clf__estimator__max_depth=None, multi_clf__estimator__max_features=auto, multi_clf__estimator__n_estimators=100, score=0.246, total= 5.9min\n",
      "[CV] multi_clf__estimator__bootstrap=False, multi_clf__estimator__max_depth=None, multi_clf__estimator__max_features=auto, multi_clf__estimator__n_estimators=100 \n",
      "[CV]  multi_clf__estimator__bootstrap=False, multi_clf__estimator__max_depth=None, multi_clf__estimator__max_features=auto, multi_clf__estimator__n_estimators=100, score=0.244, total= 5.8min\n",
      "[CV] multi_clf__estimator__bootstrap=False, multi_clf__estimator__max_depth=None, multi_clf__estimator__max_features=auto, multi_clf__estimator__n_estimators=100 \n",
      "[CV]  multi_clf__estimator__bootstrap=False, multi_clf__estimator__max_depth=None, multi_clf__estimator__max_features=auto, multi_clf__estimator__n_estimators=100, score=0.239, total= 5.8min\n",
      "[CV] multi_clf__estimator__bootstrap=False, multi_clf__estimator__max_depth=None, multi_clf__estimator__max_features=auto, multi_clf__estimator__n_estimators=100 \n",
      "[CV]  multi_clf__estimator__bootstrap=False, multi_clf__estimator__max_depth=None, multi_clf__estimator__max_features=auto, multi_clf__estimator__n_estimators=100, score=0.252, total= 5.8min\n",
      "[CV] multi_clf__estimator__bootstrap=False, multi_clf__estimator__max_depth=None, multi_clf__estimator__max_features=auto, multi_clf__estimator__n_estimators=100 \n",
      "[CV]  multi_clf__estimator__bootstrap=False, multi_clf__estimator__max_depth=None, multi_clf__estimator__max_features=auto, multi_clf__estimator__n_estimators=100, score=0.246, total= 5.8min\n",
      "[CV] multi_clf__estimator__bootstrap=False, multi_clf__estimator__max_depth=None, multi_clf__estimator__max_features=auto, multi_clf__estimator__n_estimators=200 \n",
      "[CV]  multi_clf__estimator__bootstrap=False, multi_clf__estimator__max_depth=None, multi_clf__estimator__max_features=auto, multi_clf__estimator__n_estimators=200, score=0.249, total=11.7min\n",
      "[CV] multi_clf__estimator__bootstrap=False, multi_clf__estimator__max_depth=None, multi_clf__estimator__max_features=auto, multi_clf__estimator__n_estimators=200 \n",
      "[CV]  multi_clf__estimator__bootstrap=False, multi_clf__estimator__max_depth=None, multi_clf__estimator__max_features=auto, multi_clf__estimator__n_estimators=200, score=0.243, total=11.6min\n",
      "[CV] multi_clf__estimator__bootstrap=False, multi_clf__estimator__max_depth=None, multi_clf__estimator__max_features=auto, multi_clf__estimator__n_estimators=200 \n",
      "[CV]  multi_clf__estimator__bootstrap=False, multi_clf__estimator__max_depth=None, multi_clf__estimator__max_features=auto, multi_clf__estimator__n_estimators=200, score=0.238, total=11.6min\n",
      "[CV] multi_clf__estimator__bootstrap=False, multi_clf__estimator__max_depth=None, multi_clf__estimator__max_features=auto, multi_clf__estimator__n_estimators=200 \n",
      "[CV]  multi_clf__estimator__bootstrap=False, multi_clf__estimator__max_depth=None, multi_clf__estimator__max_features=auto, multi_clf__estimator__n_estimators=200, score=0.257, total=11.7min\n",
      "[CV] multi_clf__estimator__bootstrap=False, multi_clf__estimator__max_depth=None, multi_clf__estimator__max_features=auto, multi_clf__estimator__n_estimators=200 \n",
      "[CV]  multi_clf__estimator__bootstrap=False, multi_clf__estimator__max_depth=None, multi_clf__estimator__max_features=auto, multi_clf__estimator__n_estimators=200, score=0.249, total=11.7min\n",
      "[CV] multi_clf__estimator__bootstrap=False, multi_clf__estimator__max_depth=None, multi_clf__estimator__max_features=log2, multi_clf__estimator__n_estimators=100 \n",
      "[CV]  multi_clf__estimator__bootstrap=False, multi_clf__estimator__max_depth=None, multi_clf__estimator__max_features=log2, multi_clf__estimator__n_estimators=100, score=0.226, total= 5.7min\n",
      "[CV] multi_clf__estimator__bootstrap=False, multi_clf__estimator__max_depth=None, multi_clf__estimator__max_features=log2, multi_clf__estimator__n_estimators=100 \n",
      "[CV]  multi_clf__estimator__bootstrap=False, multi_clf__estimator__max_depth=None, multi_clf__estimator__max_features=log2, multi_clf__estimator__n_estimators=100, score=0.229, total= 5.6min\n",
      "[CV] multi_clf__estimator__bootstrap=False, multi_clf__estimator__max_depth=None, multi_clf__estimator__max_features=log2, multi_clf__estimator__n_estimators=100 \n",
      "[CV]  multi_clf__estimator__bootstrap=False, multi_clf__estimator__max_depth=None, multi_clf__estimator__max_features=log2, multi_clf__estimator__n_estimators=100, score=0.220, total= 5.6min\n",
      "[CV] multi_clf__estimator__bootstrap=False, multi_clf__estimator__max_depth=None, multi_clf__estimator__max_features=log2, multi_clf__estimator__n_estimators=100 \n",
      "[CV]  multi_clf__estimator__bootstrap=False, multi_clf__estimator__max_depth=None, multi_clf__estimator__max_features=log2, multi_clf__estimator__n_estimators=100, score=0.232, total= 5.6min\n",
      "[CV] multi_clf__estimator__bootstrap=False, multi_clf__estimator__max_depth=None, multi_clf__estimator__max_features=log2, multi_clf__estimator__n_estimators=100 \n",
      "[CV]  multi_clf__estimator__bootstrap=False, multi_clf__estimator__max_depth=None, multi_clf__estimator__max_features=log2, multi_clf__estimator__n_estimators=100, score=0.226, total= 5.6min\n",
      "[CV] multi_clf__estimator__bootstrap=False, multi_clf__estimator__max_depth=None, multi_clf__estimator__max_features=log2, multi_clf__estimator__n_estimators=200 \n",
      "[CV]  multi_clf__estimator__bootstrap=False, multi_clf__estimator__max_depth=None, multi_clf__estimator__max_features=log2, multi_clf__estimator__n_estimators=200, score=0.228, total=11.3min\n",
      "[CV] multi_clf__estimator__bootstrap=False, multi_clf__estimator__max_depth=None, multi_clf__estimator__max_features=log2, multi_clf__estimator__n_estimators=200 \n",
      "[CV]  multi_clf__estimator__bootstrap=False, multi_clf__estimator__max_depth=None, multi_clf__estimator__max_features=log2, multi_clf__estimator__n_estimators=200, score=0.233, total=11.2min\n",
      "[CV] multi_clf__estimator__bootstrap=False, multi_clf__estimator__max_depth=None, multi_clf__estimator__max_features=log2, multi_clf__estimator__n_estimators=200 \n",
      "[CV]  multi_clf__estimator__bootstrap=False, multi_clf__estimator__max_depth=None, multi_clf__estimator__max_features=log2, multi_clf__estimator__n_estimators=200, score=0.219, total=11.2min\n",
      "[CV] multi_clf__estimator__bootstrap=False, multi_clf__estimator__max_depth=None, multi_clf__estimator__max_features=log2, multi_clf__estimator__n_estimators=200 \n",
      "[CV]  multi_clf__estimator__bootstrap=False, multi_clf__estimator__max_depth=None, multi_clf__estimator__max_features=log2, multi_clf__estimator__n_estimators=200, score=0.237, total=11.3min\n",
      "[CV] multi_clf__estimator__bootstrap=False, multi_clf__estimator__max_depth=None, multi_clf__estimator__max_features=log2, multi_clf__estimator__n_estimators=200 \n",
      "[CV]  multi_clf__estimator__bootstrap=False, multi_clf__estimator__max_depth=None, multi_clf__estimator__max_features=log2, multi_clf__estimator__n_estimators=200, score=0.227, total=11.3min\n",
      "[CV] multi_clf__estimator__bootstrap=False, multi_clf__estimator__max_depth=100, multi_clf__estimator__max_features=auto, multi_clf__estimator__n_estimators=100 \n",
      "[CV]  multi_clf__estimator__bootstrap=False, multi_clf__estimator__max_depth=100, multi_clf__estimator__max_features=auto, multi_clf__estimator__n_estimators=100, score=0.225, total= 3.4min\n",
      "[CV] multi_clf__estimator__bootstrap=False, multi_clf__estimator__max_depth=100, multi_clf__estimator__max_features=auto, multi_clf__estimator__n_estimators=100 \n",
      "[CV]  multi_clf__estimator__bootstrap=False, multi_clf__estimator__max_depth=100, multi_clf__estimator__max_features=auto, multi_clf__estimator__n_estimators=100, score=0.228, total= 3.4min\n",
      "[CV] multi_clf__estimator__bootstrap=False, multi_clf__estimator__max_depth=100, multi_clf__estimator__max_features=auto, multi_clf__estimator__n_estimators=100 \n",
      "[CV]  multi_clf__estimator__bootstrap=False, multi_clf__estimator__max_depth=100, multi_clf__estimator__max_features=auto, multi_clf__estimator__n_estimators=100, score=0.222, total= 3.4min\n",
      "[CV] multi_clf__estimator__bootstrap=False, multi_clf__estimator__max_depth=100, multi_clf__estimator__max_features=auto, multi_clf__estimator__n_estimators=100 \n",
      "[CV]  multi_clf__estimator__bootstrap=False, multi_clf__estimator__max_depth=100, multi_clf__estimator__max_features=auto, multi_clf__estimator__n_estimators=100, score=0.236, total= 3.4min\n",
      "[CV] multi_clf__estimator__bootstrap=False, multi_clf__estimator__max_depth=100, multi_clf__estimator__max_features=auto, multi_clf__estimator__n_estimators=100 \n",
      "[CV]  multi_clf__estimator__bootstrap=False, multi_clf__estimator__max_depth=100, multi_clf__estimator__max_features=auto, multi_clf__estimator__n_estimators=100, score=0.228, total= 3.4min\n",
      "[CV] multi_clf__estimator__bootstrap=False, multi_clf__estimator__max_depth=100, multi_clf__estimator__max_features=auto, multi_clf__estimator__n_estimators=200 \n",
      "[CV]  multi_clf__estimator__bootstrap=False, multi_clf__estimator__max_depth=100, multi_clf__estimator__max_features=auto, multi_clf__estimator__n_estimators=200, score=0.229, total= 6.9min\n",
      "[CV] multi_clf__estimator__bootstrap=False, multi_clf__estimator__max_depth=100, multi_clf__estimator__max_features=auto, multi_clf__estimator__n_estimators=200 \n",
      "[CV]  multi_clf__estimator__bootstrap=False, multi_clf__estimator__max_depth=100, multi_clf__estimator__max_features=auto, multi_clf__estimator__n_estimators=200, score=0.225, total= 6.8min\n",
      "[CV] multi_clf__estimator__bootstrap=False, multi_clf__estimator__max_depth=100, multi_clf__estimator__max_features=auto, multi_clf__estimator__n_estimators=200 \n",
      "[CV]  multi_clf__estimator__bootstrap=False, multi_clf__estimator__max_depth=100, multi_clf__estimator__max_features=auto, multi_clf__estimator__n_estimators=200, score=0.221, total= 6.9min\n",
      "[CV] multi_clf__estimator__bootstrap=False, multi_clf__estimator__max_depth=100, multi_clf__estimator__max_features=auto, multi_clf__estimator__n_estimators=200 \n",
      "[CV]  multi_clf__estimator__bootstrap=False, multi_clf__estimator__max_depth=100, multi_clf__estimator__max_features=auto, multi_clf__estimator__n_estimators=200, score=0.238, total= 6.9min\n",
      "[CV] multi_clf__estimator__bootstrap=False, multi_clf__estimator__max_depth=100, multi_clf__estimator__max_features=auto, multi_clf__estimator__n_estimators=200 \n",
      "[CV]  multi_clf__estimator__bootstrap=False, multi_clf__estimator__max_depth=100, multi_clf__estimator__max_features=auto, multi_clf__estimator__n_estimators=200, score=0.228, total= 6.8min\n",
      "[CV] multi_clf__estimator__bootstrap=False, multi_clf__estimator__max_depth=100, multi_clf__estimator__max_features=log2, multi_clf__estimator__n_estimators=100 \n",
      "[CV]  multi_clf__estimator__bootstrap=False, multi_clf__estimator__max_depth=100, multi_clf__estimator__max_features=log2, multi_clf__estimator__n_estimators=100, score=0.194, total= 1.2min\n",
      "[CV] multi_clf__estimator__bootstrap=False, multi_clf__estimator__max_depth=100, multi_clf__estimator__max_features=log2, multi_clf__estimator__n_estimators=100 \n",
      "[CV]  multi_clf__estimator__bootstrap=False, multi_clf__estimator__max_depth=100, multi_clf__estimator__max_features=log2, multi_clf__estimator__n_estimators=100, score=0.189, total= 1.2min\n",
      "[CV] multi_clf__estimator__bootstrap=False, multi_clf__estimator__max_depth=100, multi_clf__estimator__max_features=log2, multi_clf__estimator__n_estimators=100 \n",
      "[CV]  multi_clf__estimator__bootstrap=False, multi_clf__estimator__max_depth=100, multi_clf__estimator__max_features=log2, multi_clf__estimator__n_estimators=100, score=0.179, total= 1.2min\n",
      "[CV] multi_clf__estimator__bootstrap=False, multi_clf__estimator__max_depth=100, multi_clf__estimator__max_features=log2, multi_clf__estimator__n_estimators=100 \n",
      "[CV]  multi_clf__estimator__bootstrap=False, multi_clf__estimator__max_depth=100, multi_clf__estimator__max_features=log2, multi_clf__estimator__n_estimators=100, score=0.200, total= 1.2min\n",
      "[CV] multi_clf__estimator__bootstrap=False, multi_clf__estimator__max_depth=100, multi_clf__estimator__max_features=log2, multi_clf__estimator__n_estimators=100 \n",
      "[CV]  multi_clf__estimator__bootstrap=False, multi_clf__estimator__max_depth=100, multi_clf__estimator__max_features=log2, multi_clf__estimator__n_estimators=100, score=0.185, total= 1.2min\n",
      "[CV] multi_clf__estimator__bootstrap=False, multi_clf__estimator__max_depth=100, multi_clf__estimator__max_features=log2, multi_clf__estimator__n_estimators=200 \n",
      "[CV]  multi_clf__estimator__bootstrap=False, multi_clf__estimator__max_depth=100, multi_clf__estimator__max_features=log2, multi_clf__estimator__n_estimators=200, score=0.196, total= 2.5min\n",
      "[CV] multi_clf__estimator__bootstrap=False, multi_clf__estimator__max_depth=100, multi_clf__estimator__max_features=log2, multi_clf__estimator__n_estimators=200 \n",
      "[CV]  multi_clf__estimator__bootstrap=False, multi_clf__estimator__max_depth=100, multi_clf__estimator__max_features=log2, multi_clf__estimator__n_estimators=200, score=0.190, total= 2.4min\n",
      "[CV] multi_clf__estimator__bootstrap=False, multi_clf__estimator__max_depth=100, multi_clf__estimator__max_features=log2, multi_clf__estimator__n_estimators=200 \n",
      "[CV]  multi_clf__estimator__bootstrap=False, multi_clf__estimator__max_depth=100, multi_clf__estimator__max_features=log2, multi_clf__estimator__n_estimators=200, score=0.180, total= 2.5min\n",
      "[CV] multi_clf__estimator__bootstrap=False, multi_clf__estimator__max_depth=100, multi_clf__estimator__max_features=log2, multi_clf__estimator__n_estimators=200 \n",
      "[CV]  multi_clf__estimator__bootstrap=False, multi_clf__estimator__max_depth=100, multi_clf__estimator__max_features=log2, multi_clf__estimator__n_estimators=200, score=0.200, total= 2.4min\n",
      "[CV] multi_clf__estimator__bootstrap=False, multi_clf__estimator__max_depth=100, multi_clf__estimator__max_features=log2, multi_clf__estimator__n_estimators=200 \n",
      "[CV]  multi_clf__estimator__bootstrap=False, multi_clf__estimator__max_depth=100, multi_clf__estimator__max_features=log2, multi_clf__estimator__n_estimators=200, score=0.185, total= 2.4min\n",
      "[CV] multi_clf__estimator__bootstrap=False, multi_clf__estimator__max_depth=200, multi_clf__estimator__max_features=auto, multi_clf__estimator__n_estimators=100 \n",
      "[CV]  multi_clf__estimator__bootstrap=False, multi_clf__estimator__max_depth=200, multi_clf__estimator__max_features=auto, multi_clf__estimator__n_estimators=100, score=0.246, total= 5.1min\n",
      "[CV] multi_clf__estimator__bootstrap=False, multi_clf__estimator__max_depth=200, multi_clf__estimator__max_features=auto, multi_clf__estimator__n_estimators=100 \n",
      "[CV]  multi_clf__estimator__bootstrap=False, multi_clf__estimator__max_depth=200, multi_clf__estimator__max_features=auto, multi_clf__estimator__n_estimators=100, score=0.241, total= 5.0min\n",
      "[CV] multi_clf__estimator__bootstrap=False, multi_clf__estimator__max_depth=200, multi_clf__estimator__max_features=auto, multi_clf__estimator__n_estimators=100 \n",
      "[CV]  multi_clf__estimator__bootstrap=False, multi_clf__estimator__max_depth=200, multi_clf__estimator__max_features=auto, multi_clf__estimator__n_estimators=100, score=0.239, total= 5.1min\n",
      "[CV] multi_clf__estimator__bootstrap=False, multi_clf__estimator__max_depth=200, multi_clf__estimator__max_features=auto, multi_clf__estimator__n_estimators=100 \n",
      "[CV]  multi_clf__estimator__bootstrap=False, multi_clf__estimator__max_depth=200, multi_clf__estimator__max_features=auto, multi_clf__estimator__n_estimators=100, score=0.247, total= 5.1min\n",
      "[CV] multi_clf__estimator__bootstrap=False, multi_clf__estimator__max_depth=200, multi_clf__estimator__max_features=auto, multi_clf__estimator__n_estimators=100 \n",
      "[CV]  multi_clf__estimator__bootstrap=False, multi_clf__estimator__max_depth=200, multi_clf__estimator__max_features=auto, multi_clf__estimator__n_estimators=100, score=0.242, total= 5.3min\n",
      "[CV] multi_clf__estimator__bootstrap=False, multi_clf__estimator__max_depth=200, multi_clf__estimator__max_features=auto, multi_clf__estimator__n_estimators=200 \n",
      "[CV]  multi_clf__estimator__bootstrap=False, multi_clf__estimator__max_depth=200, multi_clf__estimator__max_features=auto, multi_clf__estimator__n_estimators=200, score=0.247, total=10.3min\n",
      "[CV] multi_clf__estimator__bootstrap=False, multi_clf__estimator__max_depth=200, multi_clf__estimator__max_features=auto, multi_clf__estimator__n_estimators=200 \n",
      "[CV]  multi_clf__estimator__bootstrap=False, multi_clf__estimator__max_depth=200, multi_clf__estimator__max_features=auto, multi_clf__estimator__n_estimators=200, score=0.243, total=10.2min\n",
      "[CV] multi_clf__estimator__bootstrap=False, multi_clf__estimator__max_depth=200, multi_clf__estimator__max_features=auto, multi_clf__estimator__n_estimators=200 \n",
      "[CV]  multi_clf__estimator__bootstrap=False, multi_clf__estimator__max_depth=200, multi_clf__estimator__max_features=auto, multi_clf__estimator__n_estimators=200, score=0.239, total=10.2min\n",
      "[CV] multi_clf__estimator__bootstrap=False, multi_clf__estimator__max_depth=200, multi_clf__estimator__max_features=auto, multi_clf__estimator__n_estimators=200 \n",
      "[CV]  multi_clf__estimator__bootstrap=False, multi_clf__estimator__max_depth=200, multi_clf__estimator__max_features=auto, multi_clf__estimator__n_estimators=200, score=0.255, total=10.2min\n",
      "[CV] multi_clf__estimator__bootstrap=False, multi_clf__estimator__max_depth=200, multi_clf__estimator__max_features=auto, multi_clf__estimator__n_estimators=200 \n",
      "[CV]  multi_clf__estimator__bootstrap=False, multi_clf__estimator__max_depth=200, multi_clf__estimator__max_features=auto, multi_clf__estimator__n_estimators=200, score=0.248, total=10.2min\n",
      "[CV] multi_clf__estimator__bootstrap=False, multi_clf__estimator__max_depth=200, multi_clf__estimator__max_features=log2, multi_clf__estimator__n_estimators=100 \n",
      "[CV]  multi_clf__estimator__bootstrap=False, multi_clf__estimator__max_depth=200, multi_clf__estimator__max_features=log2, multi_clf__estimator__n_estimators=100, score=0.191, total= 2.5min\n",
      "[CV] multi_clf__estimator__bootstrap=False, multi_clf__estimator__max_depth=200, multi_clf__estimator__max_features=log2, multi_clf__estimator__n_estimators=100 \n",
      "[CV]  multi_clf__estimator__bootstrap=False, multi_clf__estimator__max_depth=200, multi_clf__estimator__max_features=log2, multi_clf__estimator__n_estimators=100, score=0.191, total= 2.5min\n",
      "[CV] multi_clf__estimator__bootstrap=False, multi_clf__estimator__max_depth=200, multi_clf__estimator__max_features=log2, multi_clf__estimator__n_estimators=100 \n",
      "[CV]  multi_clf__estimator__bootstrap=False, multi_clf__estimator__max_depth=200, multi_clf__estimator__max_features=log2, multi_clf__estimator__n_estimators=100, score=0.185, total= 2.5min\n",
      "[CV] multi_clf__estimator__bootstrap=False, multi_clf__estimator__max_depth=200, multi_clf__estimator__max_features=log2, multi_clf__estimator__n_estimators=100 \n",
      "[CV]  multi_clf__estimator__bootstrap=False, multi_clf__estimator__max_depth=200, multi_clf__estimator__max_features=log2, multi_clf__estimator__n_estimators=100, score=0.199, total= 2.4min\n",
      "[CV] multi_clf__estimator__bootstrap=False, multi_clf__estimator__max_depth=200, multi_clf__estimator__max_features=log2, multi_clf__estimator__n_estimators=100 \n",
      "[CV]  multi_clf__estimator__bootstrap=False, multi_clf__estimator__max_depth=200, multi_clf__estimator__max_features=log2, multi_clf__estimator__n_estimators=100, score=0.183, total= 2.5min\n",
      "[CV] multi_clf__estimator__bootstrap=False, multi_clf__estimator__max_depth=200, multi_clf__estimator__max_features=log2, multi_clf__estimator__n_estimators=200 \n",
      "[CV]  multi_clf__estimator__bootstrap=False, multi_clf__estimator__max_depth=200, multi_clf__estimator__max_features=log2, multi_clf__estimator__n_estimators=200, score=0.193, total= 4.8min\n",
      "[CV] multi_clf__estimator__bootstrap=False, multi_clf__estimator__max_depth=200, multi_clf__estimator__max_features=log2, multi_clf__estimator__n_estimators=200 \n",
      "[CV]  multi_clf__estimator__bootstrap=False, multi_clf__estimator__max_depth=200, multi_clf__estimator__max_features=log2, multi_clf__estimator__n_estimators=200, score=0.193, total= 4.7min\n",
      "[CV] multi_clf__estimator__bootstrap=False, multi_clf__estimator__max_depth=200, multi_clf__estimator__max_features=log2, multi_clf__estimator__n_estimators=200 \n",
      "[CV]  multi_clf__estimator__bootstrap=False, multi_clf__estimator__max_depth=200, multi_clf__estimator__max_features=log2, multi_clf__estimator__n_estimators=200, score=0.184, total= 4.7min\n",
      "[CV] multi_clf__estimator__bootstrap=False, multi_clf__estimator__max_depth=200, multi_clf__estimator__max_features=log2, multi_clf__estimator__n_estimators=200 \n",
      "[CV]  multi_clf__estimator__bootstrap=False, multi_clf__estimator__max_depth=200, multi_clf__estimator__max_features=log2, multi_clf__estimator__n_estimators=200, score=0.197, total= 4.7min\n",
      "[CV] multi_clf__estimator__bootstrap=False, multi_clf__estimator__max_depth=200, multi_clf__estimator__max_features=log2, multi_clf__estimator__n_estimators=200 \n",
      "[CV]  multi_clf__estimator__bootstrap=False, multi_clf__estimator__max_depth=200, multi_clf__estimator__max_features=log2, multi_clf__estimator__n_estimators=200, score=0.183, total= 4.9min\n",
      "[CV] multi_clf__estimator__bootstrap=False, multi_clf__estimator__max_depth=300, multi_clf__estimator__max_features=auto, multi_clf__estimator__n_estimators=100 \n",
      "[CV]  multi_clf__estimator__bootstrap=False, multi_clf__estimator__max_depth=300, multi_clf__estimator__max_features=auto, multi_clf__estimator__n_estimators=100, score=0.248, total= 6.8min\n",
      "[CV] multi_clf__estimator__bootstrap=False, multi_clf__estimator__max_depth=300, multi_clf__estimator__max_features=auto, multi_clf__estimator__n_estimators=100 \n",
      "[CV]  multi_clf__estimator__bootstrap=False, multi_clf__estimator__max_depth=300, multi_clf__estimator__max_features=auto, multi_clf__estimator__n_estimators=100, score=0.242, total= 6.0min\n",
      "[CV] multi_clf__estimator__bootstrap=False, multi_clf__estimator__max_depth=300, multi_clf__estimator__max_features=auto, multi_clf__estimator__n_estimators=100 \n",
      "[CV]  multi_clf__estimator__bootstrap=False, multi_clf__estimator__max_depth=300, multi_clf__estimator__max_features=auto, multi_clf__estimator__n_estimators=100, score=0.237, total= 5.5min\n",
      "[CV] multi_clf__estimator__bootstrap=False, multi_clf__estimator__max_depth=300, multi_clf__estimator__max_features=auto, multi_clf__estimator__n_estimators=100 \n",
      "[CV]  multi_clf__estimator__bootstrap=False, multi_clf__estimator__max_depth=300, multi_clf__estimator__max_features=auto, multi_clf__estimator__n_estimators=100, score=0.247, total= 5.5min\n",
      "[CV] multi_clf__estimator__bootstrap=False, multi_clf__estimator__max_depth=300, multi_clf__estimator__max_features=auto, multi_clf__estimator__n_estimators=100 \n",
      "[CV]  multi_clf__estimator__bootstrap=False, multi_clf__estimator__max_depth=300, multi_clf__estimator__max_features=auto, multi_clf__estimator__n_estimators=100, score=0.246, total= 5.5min\n",
      "[CV] multi_clf__estimator__bootstrap=False, multi_clf__estimator__max_depth=300, multi_clf__estimator__max_features=auto, multi_clf__estimator__n_estimators=200 \n",
      "[CV]  multi_clf__estimator__bootstrap=False, multi_clf__estimator__max_depth=300, multi_clf__estimator__max_features=auto, multi_clf__estimator__n_estimators=200, score=0.251, total=11.0min\n",
      "[CV] multi_clf__estimator__bootstrap=False, multi_clf__estimator__max_depth=300, multi_clf__estimator__max_features=auto, multi_clf__estimator__n_estimators=200 \n",
      "[CV]  multi_clf__estimator__bootstrap=False, multi_clf__estimator__max_depth=300, multi_clf__estimator__max_features=auto, multi_clf__estimator__n_estimators=200, score=0.242, total=10.8min\n",
      "[CV] multi_clf__estimator__bootstrap=False, multi_clf__estimator__max_depth=300, multi_clf__estimator__max_features=auto, multi_clf__estimator__n_estimators=200 \n",
      "[CV]  multi_clf__estimator__bootstrap=False, multi_clf__estimator__max_depth=300, multi_clf__estimator__max_features=auto, multi_clf__estimator__n_estimators=200, score=0.238, total=10.8min\n",
      "[CV] multi_clf__estimator__bootstrap=False, multi_clf__estimator__max_depth=300, multi_clf__estimator__max_features=auto, multi_clf__estimator__n_estimators=200 \n",
      "[CV]  multi_clf__estimator__bootstrap=False, multi_clf__estimator__max_depth=300, multi_clf__estimator__max_features=auto, multi_clf__estimator__n_estimators=200, score=0.253, total=10.9min\n",
      "[CV] multi_clf__estimator__bootstrap=False, multi_clf__estimator__max_depth=300, multi_clf__estimator__max_features=auto, multi_clf__estimator__n_estimators=200 \n",
      "[CV]  multi_clf__estimator__bootstrap=False, multi_clf__estimator__max_depth=300, multi_clf__estimator__max_features=auto, multi_clf__estimator__n_estimators=200, score=0.248, total=10.7min\n",
      "[CV] multi_clf__estimator__bootstrap=False, multi_clf__estimator__max_depth=300, multi_clf__estimator__max_features=log2, multi_clf__estimator__n_estimators=100 \n",
      "[CV]  multi_clf__estimator__bootstrap=False, multi_clf__estimator__max_depth=300, multi_clf__estimator__max_features=log2, multi_clf__estimator__n_estimators=100, score=0.196, total= 3.2min\n",
      "[CV] multi_clf__estimator__bootstrap=False, multi_clf__estimator__max_depth=300, multi_clf__estimator__max_features=log2, multi_clf__estimator__n_estimators=100 \n",
      "[CV]  multi_clf__estimator__bootstrap=False, multi_clf__estimator__max_depth=300, multi_clf__estimator__max_features=log2, multi_clf__estimator__n_estimators=100, score=0.196, total= 3.2min\n",
      "[CV] multi_clf__estimator__bootstrap=False, multi_clf__estimator__max_depth=300, multi_clf__estimator__max_features=log2, multi_clf__estimator__n_estimators=100 \n",
      "[CV]  multi_clf__estimator__bootstrap=False, multi_clf__estimator__max_depth=300, multi_clf__estimator__max_features=log2, multi_clf__estimator__n_estimators=100, score=0.193, total= 3.3min\n",
      "[CV] multi_clf__estimator__bootstrap=False, multi_clf__estimator__max_depth=300, multi_clf__estimator__max_features=log2, multi_clf__estimator__n_estimators=100 \n",
      "[CV]  multi_clf__estimator__bootstrap=False, multi_clf__estimator__max_depth=300, multi_clf__estimator__max_features=log2, multi_clf__estimator__n_estimators=100, score=0.204, total= 3.3min\n",
      "[CV] multi_clf__estimator__bootstrap=False, multi_clf__estimator__max_depth=300, multi_clf__estimator__max_features=log2, multi_clf__estimator__n_estimators=100 \n",
      "[CV]  multi_clf__estimator__bootstrap=False, multi_clf__estimator__max_depth=300, multi_clf__estimator__max_features=log2, multi_clf__estimator__n_estimators=100, score=0.192, total= 3.2min\n",
      "[CV] multi_clf__estimator__bootstrap=False, multi_clf__estimator__max_depth=300, multi_clf__estimator__max_features=log2, multi_clf__estimator__n_estimators=200 \n",
      "[CV]  multi_clf__estimator__bootstrap=False, multi_clf__estimator__max_depth=300, multi_clf__estimator__max_features=log2, multi_clf__estimator__n_estimators=200, score=0.198, total= 6.5min\n",
      "[CV] multi_clf__estimator__bootstrap=False, multi_clf__estimator__max_depth=300, multi_clf__estimator__max_features=log2, multi_clf__estimator__n_estimators=200 \n",
      "[CV]  multi_clf__estimator__bootstrap=False, multi_clf__estimator__max_depth=300, multi_clf__estimator__max_features=log2, multi_clf__estimator__n_estimators=200, score=0.197, total= 6.4min\n",
      "[CV] multi_clf__estimator__bootstrap=False, multi_clf__estimator__max_depth=300, multi_clf__estimator__max_features=log2, multi_clf__estimator__n_estimators=200 \n",
      "[CV]  multi_clf__estimator__bootstrap=False, multi_clf__estimator__max_depth=300, multi_clf__estimator__max_features=log2, multi_clf__estimator__n_estimators=200, score=0.193, total= 6.6min\n",
      "[CV] multi_clf__estimator__bootstrap=False, multi_clf__estimator__max_depth=300, multi_clf__estimator__max_features=log2, multi_clf__estimator__n_estimators=200 \n",
      "[CV]  multi_clf__estimator__bootstrap=False, multi_clf__estimator__max_depth=300, multi_clf__estimator__max_features=log2, multi_clf__estimator__n_estimators=200, score=0.207, total= 6.4min\n",
      "[CV] multi_clf__estimator__bootstrap=False, multi_clf__estimator__max_depth=300, multi_clf__estimator__max_features=log2, multi_clf__estimator__n_estimators=200 \n",
      "[CV]  multi_clf__estimator__bootstrap=False, multi_clf__estimator__max_depth=300, multi_clf__estimator__max_features=log2, multi_clf__estimator__n_estimators=200, score=0.193, total= 6.3min\n",
      "[CV] multi_clf__estimator__bootstrap=False, multi_clf__estimator__max_depth=500, multi_clf__estimator__max_features=auto, multi_clf__estimator__n_estimators=100 \n",
      "[CV]  multi_clf__estimator__bootstrap=False, multi_clf__estimator__max_depth=500, multi_clf__estimator__max_features=auto, multi_clf__estimator__n_estimators=100, score=0.246, total= 5.5min\n",
      "[CV] multi_clf__estimator__bootstrap=False, multi_clf__estimator__max_depth=500, multi_clf__estimator__max_features=auto, multi_clf__estimator__n_estimators=100 \n",
      "[CV]  multi_clf__estimator__bootstrap=False, multi_clf__estimator__max_depth=500, multi_clf__estimator__max_features=auto, multi_clf__estimator__n_estimators=100, score=0.243, total= 5.5min\n",
      "[CV] multi_clf__estimator__bootstrap=False, multi_clf__estimator__max_depth=500, multi_clf__estimator__max_features=auto, multi_clf__estimator__n_estimators=100 \n",
      "[CV]  multi_clf__estimator__bootstrap=False, multi_clf__estimator__max_depth=500, multi_clf__estimator__max_features=auto, multi_clf__estimator__n_estimators=100, score=0.240, total= 5.5min\n",
      "[CV] multi_clf__estimator__bootstrap=False, multi_clf__estimator__max_depth=500, multi_clf__estimator__max_features=auto, multi_clf__estimator__n_estimators=100 \n",
      "[CV]  multi_clf__estimator__bootstrap=False, multi_clf__estimator__max_depth=500, multi_clf__estimator__max_features=auto, multi_clf__estimator__n_estimators=100, score=0.251, total= 5.5min\n",
      "[CV] multi_clf__estimator__bootstrap=False, multi_clf__estimator__max_depth=500, multi_clf__estimator__max_features=auto, multi_clf__estimator__n_estimators=100 \n",
      "[CV]  multi_clf__estimator__bootstrap=False, multi_clf__estimator__max_depth=500, multi_clf__estimator__max_features=auto, multi_clf__estimator__n_estimators=100, score=0.246, total= 5.5min\n",
      "[CV] multi_clf__estimator__bootstrap=False, multi_clf__estimator__max_depth=500, multi_clf__estimator__max_features=auto, multi_clf__estimator__n_estimators=200 \n",
      "[CV]  multi_clf__estimator__bootstrap=False, multi_clf__estimator__max_depth=500, multi_clf__estimator__max_features=auto, multi_clf__estimator__n_estimators=200, score=0.251, total=111.2min\n",
      "[CV] multi_clf__estimator__bootstrap=False, multi_clf__estimator__max_depth=500, multi_clf__estimator__max_features=auto, multi_clf__estimator__n_estimators=200 \n",
      "[CV]  multi_clf__estimator__bootstrap=False, multi_clf__estimator__max_depth=500, multi_clf__estimator__max_features=auto, multi_clf__estimator__n_estimators=200, score=0.243, total=11.2min\n",
      "[CV] multi_clf__estimator__bootstrap=False, multi_clf__estimator__max_depth=500, multi_clf__estimator__max_features=auto, multi_clf__estimator__n_estimators=200 \n",
      "[CV]  multi_clf__estimator__bootstrap=False, multi_clf__estimator__max_depth=500, multi_clf__estimator__max_features=auto, multi_clf__estimator__n_estimators=200, score=0.239, total=11.4min\n",
      "[CV] multi_clf__estimator__bootstrap=False, multi_clf__estimator__max_depth=500, multi_clf__estimator__max_features=auto, multi_clf__estimator__n_estimators=200 \n",
      "[CV]  multi_clf__estimator__bootstrap=False, multi_clf__estimator__max_depth=500, multi_clf__estimator__max_features=auto, multi_clf__estimator__n_estimators=200, score=0.255, total=11.2min\n",
      "[CV] multi_clf__estimator__bootstrap=False, multi_clf__estimator__max_depth=500, multi_clf__estimator__max_features=auto, multi_clf__estimator__n_estimators=200 \n",
      "[CV]  multi_clf__estimator__bootstrap=False, multi_clf__estimator__max_depth=500, multi_clf__estimator__max_features=auto, multi_clf__estimator__n_estimators=200, score=0.248, total=11.1min\n",
      "[CV] multi_clf__estimator__bootstrap=False, multi_clf__estimator__max_depth=500, multi_clf__estimator__max_features=log2, multi_clf__estimator__n_estimators=100 \n",
      "[CV]  multi_clf__estimator__bootstrap=False, multi_clf__estimator__max_depth=500, multi_clf__estimator__max_features=log2, multi_clf__estimator__n_estimators=100, score=0.205, total= 4.4min\n",
      "[CV] multi_clf__estimator__bootstrap=False, multi_clf__estimator__max_depth=500, multi_clf__estimator__max_features=log2, multi_clf__estimator__n_estimators=100 \n",
      "[CV]  multi_clf__estimator__bootstrap=False, multi_clf__estimator__max_depth=500, multi_clf__estimator__max_features=log2, multi_clf__estimator__n_estimators=100, score=0.214, total= 4.4min\n",
      "[CV] multi_clf__estimator__bootstrap=False, multi_clf__estimator__max_depth=500, multi_clf__estimator__max_features=log2, multi_clf__estimator__n_estimators=100 \n",
      "[CV]  multi_clf__estimator__bootstrap=False, multi_clf__estimator__max_depth=500, multi_clf__estimator__max_features=log2, multi_clf__estimator__n_estimators=100, score=0.206, total= 4.4min\n",
      "[CV] multi_clf__estimator__bootstrap=False, multi_clf__estimator__max_depth=500, multi_clf__estimator__max_features=log2, multi_clf__estimator__n_estimators=100 \n",
      "[CV]  multi_clf__estimator__bootstrap=False, multi_clf__estimator__max_depth=500, multi_clf__estimator__max_features=log2, multi_clf__estimator__n_estimators=100, score=0.218, total= 4.5min\n",
      "[CV] multi_clf__estimator__bootstrap=False, multi_clf__estimator__max_depth=500, multi_clf__estimator__max_features=log2, multi_clf__estimator__n_estimators=100 \n",
      "[CV]  multi_clf__estimator__bootstrap=False, multi_clf__estimator__max_depth=500, multi_clf__estimator__max_features=log2, multi_clf__estimator__n_estimators=100, score=0.209, total= 4.5min\n",
      "[CV] multi_clf__estimator__bootstrap=False, multi_clf__estimator__max_depth=500, multi_clf__estimator__max_features=log2, multi_clf__estimator__n_estimators=200 \n",
      "[CV]  multi_clf__estimator__bootstrap=False, multi_clf__estimator__max_depth=500, multi_clf__estimator__max_features=log2, multi_clf__estimator__n_estimators=200, score=0.213, total= 9.0min\n",
      "[CV] multi_clf__estimator__bootstrap=False, multi_clf__estimator__max_depth=500, multi_clf__estimator__max_features=log2, multi_clf__estimator__n_estimators=200 \n",
      "[CV]  multi_clf__estimator__bootstrap=False, multi_clf__estimator__max_depth=500, multi_clf__estimator__max_features=log2, multi_clf__estimator__n_estimators=200, score=0.215, total= 8.9min\n",
      "[CV] multi_clf__estimator__bootstrap=False, multi_clf__estimator__max_depth=500, multi_clf__estimator__max_features=log2, multi_clf__estimator__n_estimators=200 \n",
      "[CV]  multi_clf__estimator__bootstrap=False, multi_clf__estimator__max_depth=500, multi_clf__estimator__max_features=log2, multi_clf__estimator__n_estimators=200, score=0.205, total= 9.3min\n",
      "[CV] multi_clf__estimator__bootstrap=False, multi_clf__estimator__max_depth=500, multi_clf__estimator__max_features=log2, multi_clf__estimator__n_estimators=200 \n",
      "[CV]  multi_clf__estimator__bootstrap=False, multi_clf__estimator__max_depth=500, multi_clf__estimator__max_features=log2, multi_clf__estimator__n_estimators=200, score=0.221, total= 9.1min\n",
      "[CV] multi_clf__estimator__bootstrap=False, multi_clf__estimator__max_depth=500, multi_clf__estimator__max_features=log2, multi_clf__estimator__n_estimators=200 \n",
      "[CV]  multi_clf__estimator__bootstrap=False, multi_clf__estimator__max_depth=500, multi_clf__estimator__max_features=log2, multi_clf__estimator__n_estimators=200, score=0.210, total= 9.5min\n"
     ]
    },
    {
     "name": "stderr",
     "output_type": "stream",
     "text": [
      "[Parallel(n_jobs=1)]: Done 200 out of 200 | elapsed: 1197.0min finished\n"
     ]
    }
   ],
   "source": [
    "tuned_model = build_model()\n",
    "tuned_model.fit(X_train, y_train)\n",
    "y_pred = tuned_model.predict(X_test)"
   ]
  },
  {
   "cell_type": "code",
   "execution_count": 64,
   "metadata": {},
   "outputs": [
    {
     "data": {
      "text/plain": [
       "Pipeline(steps=[('vect',\n",
       "                 CountVectorizer(tokenizer=<function tokenize at 0x000002843B9FD280>)),\n",
       "                ('tfidf', TfidfTransformer()),\n",
       "                ('multi_clf',\n",
       "                 MultiOutputClassifier(estimator=RandomForestClassifier(bootstrap=False,\n",
       "                                                                        n_estimators=200,\n",
       "                                                                        random_state=42)))])"
      ]
     },
     "execution_count": 64,
     "metadata": {},
     "output_type": "execute_result"
    }
   ],
   "source": [
    "tuned_model.best_estimator_"
   ]
  },
  {
   "cell_type": "code",
   "execution_count": 65,
   "metadata": {},
   "outputs": [
    {
     "data": {
      "text/plain": [
       "{'multi_clf__estimator__bootstrap': False,\n",
       " 'multi_clf__estimator__max_depth': None,\n",
       " 'multi_clf__estimator__max_features': 'auto',\n",
       " 'multi_clf__estimator__n_estimators': 200}"
      ]
     },
     "execution_count": 65,
     "metadata": {},
     "output_type": "execute_result"
    }
   ],
   "source": [
    "tuned_model.best_params_"
   ]
  },
  {
   "cell_type": "markdown",
   "metadata": {},
   "source": [
    "### 8. Try improving your model further. Here are a few ideas:\n",
    "* try other machine learning algorithms\n",
    "* add other features besides the TF-IDF"
   ]
  },
  {
   "cell_type": "raw",
   "metadata": {},
   "source": [
    "{'multi_clf__estimator__bootstrap': False,\n",
    " 'multi_clf__estimator__max_depth': None,\n",
    " 'multi_clf__estimator__max_features': 'auto',\n",
    " 'multi_clf__estimator__n_estimators': 200}"
   ]
  },
  {
   "cell_type": "code",
   "execution_count": 16,
   "metadata": {},
   "outputs": [],
   "source": [
    "pipeline_tuned = Pipeline([\n",
    "                (\"vect\", CountVectorizer(tokenizer=tokenize)),\n",
    "                (\"tfidf\", TfidfTransformer()),\n",
    "                (\"multi_clf\", MultiOutputClassifier(RandomForestClassifier(random_state = 42, \n",
    "                                                                           bootstrap = False,\n",
    "                                                                           n_estimators = 200)))\n",
    "])"
   ]
  },
  {
   "cell_type": "code",
   "execution_count": 17,
   "metadata": {},
   "outputs": [
    {
     "data": {
      "text/plain": [
       "Pipeline(steps=[('vect',\n",
       "                 CountVectorizer(tokenizer=<function tokenize at 0x0000020A49ECC160>)),\n",
       "                ('tfidf', TfidfTransformer()),\n",
       "                ('multi_clf',\n",
       "                 MultiOutputClassifier(estimator=RandomForestClassifier(bootstrap=False,\n",
       "                                                                        n_estimators=200,\n",
       "                                                                        random_state=42)))])"
      ]
     },
     "execution_count": 17,
     "metadata": {},
     "output_type": "execute_result"
    }
   ],
   "source": [
    "pipeline_tuned.fit(X_train,y_train)"
   ]
  },
  {
   "cell_type": "code",
   "execution_count": 18,
   "metadata": {},
   "outputs": [],
   "source": [
    "y_pred = pipeline_tuned.predict(X_test)"
   ]
  },
  {
   "cell_type": "code",
   "execution_count": 19,
   "metadata": {},
   "outputs": [
    {
     "name": "stdout",
     "output_type": "stream",
     "text": [
      "related f1-score = 0.763 precision = 0.789 recall = 0.800\n",
      "request f1-score = 0.889 precision = 0.898 recall = 0.901\n",
      "offer f1-score = 0.993 precision = 0.991 recall = 0.995\n",
      "aid_related f1-score = 0.770 precision = 0.773 recall = 0.774\n",
      "medical_help f1-score = 0.893 precision = 0.899 recall = 0.924\n",
      "medical_products f1-score = 0.932 precision = 0.941 recall = 0.952\n",
      "search_and_rescue f1-score = 0.967 precision = 0.970 recall = 0.976\n",
      "security f1-score = 0.975 precision = 0.968 recall = 0.982\n",
      "military f1-score = 0.948 precision = 0.954 recall = 0.965\n",
      "child_alone f1-score = 1.000 precision = 1.000 recall = 1.000\n",
      "water f1-score = 0.942 precision = 0.953 recall = 0.954\n",
      "food f1-score = 0.919 precision = 0.930 recall = 0.931\n",
      "shelter f1-score = 0.922 precision = 0.933 recall = 0.936\n",
      "clothing f1-score = 0.984 precision = 0.984 recall = 0.988\n",
      "money f1-score = 0.968 precision = 0.975 recall = 0.978\n",
      "missing_people f1-score = 0.984 precision = 0.989 recall = 0.989\n",
      "refugees f1-score = 0.955 precision = 0.961 recall = 0.969\n",
      "death f1-score = 0.950 precision = 0.959 recall = 0.963\n",
      "other_aid f1-score = 0.812 precision = 0.841 recall = 0.870\n",
      "infrastructure_related f1-score = 0.915 precision = 0.898 recall = 0.942\n",
      "transport f1-score = 0.940 precision = 0.946 recall = 0.958\n",
      "buildings f1-score = 0.937 precision = 0.949 recall = 0.955\n",
      "electricity f1-score = 0.970 precision = 0.974 recall = 0.980\n",
      "tools f1-score = 0.991 precision = 0.988 recall = 0.994\n",
      "hospitals f1-score = 0.986 precision = 0.981 recall = 0.990\n",
      "shops f1-score = 0.992 precision = 0.990 recall = 0.995\n",
      "aid_centers f1-score = 0.986 precision = 0.982 recall = 0.991\n",
      "other_infrastructure f1-score = 0.942 precision = 0.932 recall = 0.960\n",
      "weather_related f1-score = 0.872 precision = 0.877 recall = 0.878\n",
      "floods f1-score = 0.936 precision = 0.945 recall = 0.946\n",
      "storm f1-score = 0.920 precision = 0.924 recall = 0.931\n",
      "fire f1-score = 0.985 precision = 0.990 recall = 0.990\n",
      "earthquake f1-score = 0.970 precision = 0.970 recall = 0.971\n",
      "cold f1-score = 0.979 precision = 0.978 recall = 0.983\n",
      "other_weather f1-score = 0.929 precision = 0.928 recall = 0.951\n",
      "direct_report f1-score = 0.842 precision = 0.858 recall = 0.864\n"
     ]
    }
   ],
   "source": [
    "for i, column in enumerate(Y.columns):\n",
    "    report = classification_report(y_test[column], y_pred[:,i], output_dict=True, zero_division=0)\n",
    "    # majority = (y_test[column] == (y_test[column].mode())[0]).sum()/y_test.shape[0]\n",
    "    try:\n",
    "        print(column, \n",
    "              'f1-score = {:.3f}'.format(report['weighted avg']['f1-score']), \n",
    "              # 'majority = {:.3f}'.format(majority),\n",
    "              'precision = {:.3f}'.format(report['weighted avg']['precision']),\n",
    "              'recall = {:.3f}'.format(report['weighted avg']['recall']))\n",
    "    except Exception as err:\n",
    "        print(column, err)"
   ]
  },
  {
   "cell_type": "code",
   "execution_count": 96,
   "metadata": {},
   "outputs": [],
   "source": [
    "pipeline_balanced = Pipeline([\n",
    "                (\"vect\", CountVectorizer(tokenizer=tokenize)),\n",
    "                (\"tfidf\", TfidfTransformer()),\n",
    "                (\"multi_clf\", MultiOutputClassifier(RandomForestClassifier(random_state = 42, \n",
    "                                                                           bootstrap = False,\n",
    "                                                                           n_estimators = 200,\n",
    "                                                                           class_weight=\"balanced\")))\n",
    "])"
   ]
  },
  {
   "cell_type": "code",
   "execution_count": 97,
   "metadata": {},
   "outputs": [
    {
     "data": {
      "text/plain": [
       "Pipeline(steps=[('vect',\n",
       "                 CountVectorizer(tokenizer=<function tokenize at 0x000002843B9FD280>)),\n",
       "                ('tfidf', TfidfTransformer()),\n",
       "                ('multi_clf',\n",
       "                 MultiOutputClassifier(estimator=RandomForestClassifier(bootstrap=False,\n",
       "                                                                        class_weight='balanced',\n",
       "                                                                        n_estimators=200,\n",
       "                                                                        random_state=42)))])"
      ]
     },
     "execution_count": 97,
     "metadata": {},
     "output_type": "execute_result"
    }
   ],
   "source": [
    "pipeline_balanced.fit(X_train,y_train)"
   ]
  },
  {
   "cell_type": "code",
   "execution_count": 98,
   "metadata": {},
   "outputs": [],
   "source": [
    "y_pred_balanced = pipeline_balanced.predict(X_test)"
   ]
  },
  {
   "cell_type": "code",
   "execution_count": 99,
   "metadata": {},
   "outputs": [
    {
     "name": "stdout",
     "output_type": "stream",
     "text": [
      "related f1-score = 0.775 majority = 0.765 precision = 0.795 recall = 0.808\n",
      "request f1-score = 0.884 majority = 0.828 precision = 0.897 recall = 0.898\n",
      "offer f1-score = 0.993 majority = 0.995 precision = 0.990 recall = 0.995\n",
      "aid_related f1-score = 0.766 majority = 0.583 precision = 0.769 recall = 0.770\n",
      "medical_help f1-score = 0.886 majority = 0.919 precision = 0.898 recall = 0.920\n",
      "medical_products f1-score = 0.936 majority = 0.951 precision = 0.947 recall = 0.954\n",
      "search_and_rescue f1-score = 0.960 majority = 0.973 precision = 0.965 recall = 0.973\n",
      "security f1-score = 0.971 majority = 0.981 precision = 0.981 recall = 0.981\n",
      "military f1-score = 0.948 majority = 0.965 precision = 0.931 recall = 0.965\n",
      "child_alone f1-score = 1.000 majority = 1.000 precision = 1.000 recall = 1.000\n",
      "water f1-score = 0.932 majority = 0.935 precision = 0.949 recall = 0.948\n",
      "food f1-score = 0.915 majority = 0.892 precision = 0.926 recall = 0.928\n",
      "shelter f1-score = 0.898 majority = 0.911 precision = 0.921 recall = 0.923\n",
      "clothing f1-score = 0.977 majority = 0.983 precision = 0.978 recall = 0.983\n",
      "money f1-score = 0.967 majority = 0.977 precision = 0.973 recall = 0.977\n",
      "missing_people f1-score = 0.982 majority = 0.987 precision = 0.988 recall = 0.987\n",
      "refugees f1-score = 0.956 majority = 0.970 precision = 0.971 recall = 0.971\n",
      "death f1-score = 0.935 majority = 0.954 precision = 0.948 recall = 0.955\n",
      "other_aid f1-score = 0.813 majority = 0.867 precision = 0.840 recall = 0.869\n",
      "infrastructure_related f1-score = 0.900 majority = 0.932 precision = 0.897 recall = 0.932\n",
      "transport f1-score = 0.932 majority = 0.953 precision = 0.945 recall = 0.953\n",
      "buildings f1-score = 0.927 majority = 0.948 precision = 0.943 recall = 0.949\n",
      "electricity f1-score = 0.971 majority = 0.980 precision = 0.976 recall = 0.980\n",
      "tools f1-score = 0.991 majority = 0.994 precision = 0.988 recall = 0.994\n",
      "hospitals f1-score = 0.982 majority = 0.988 precision = 0.976 recall = 0.988\n",
      "shops f1-score = 0.993 majority = 0.995 precision = 0.990 recall = 0.995\n",
      "aid_centers f1-score = 0.981 majority = 0.988 precision = 0.975 recall = 0.988\n",
      "other_infrastructure f1-score = 0.932 majority = 0.955 precision = 0.911 recall = 0.954\n",
      "weather_related f1-score = 0.862 majority = 0.722 precision = 0.872 recall = 0.870\n",
      "floods f1-score = 0.900 majority = 0.918 precision = 0.923 recall = 0.926\n",
      "storm f1-score = 0.903 majority = 0.909 precision = 0.917 recall = 0.924\n",
      "fire f1-score = 0.981 majority = 0.988 precision = 0.975 recall = 0.988\n",
      "earthquake f1-score = 0.942 majority = 0.908 precision = 0.947 recall = 0.949\n",
      "cold f1-score = 0.972 majority = 0.981 precision = 0.969 recall = 0.981\n",
      "other_weather f1-score = 0.915 majority = 0.942 precision = 0.934 recall = 0.943\n",
      "direct_report f1-score = 0.849 majority = 0.809 precision = 0.864 recall = 0.869\n"
     ]
    }
   ],
   "source": [
    "for i, column in enumerate(Y.columns):\n",
    "    report = classification_report(y_test[column], y_pred_balanced[:,i], output_dict=True, zero_division=0)\n",
    "    majority = (y_test[column] == (y_test[column].mode())[0]).sum()/y_test.shape[0]\n",
    "    try:\n",
    "        print(column, \n",
    "              'f1-score = {:.3f}'.format(report['weighted avg']['f1-score']), \n",
    "              'majority = {:.3f}'.format(majority),\n",
    "              'precision = {:.3f}'.format(report['weighted avg']['precision']),\n",
    "              'recall = {:.3f}'.format(report['weighted avg']['recall']))\n",
    "    except Exception as err:\n",
    "        print(column, err)"
   ]
  },
  {
   "cell_type": "code",
   "execution_count": 105,
   "metadata": {},
   "outputs": [
    {
     "name": "stdout",
     "output_type": "stream",
     "text": [
      "related recall_unbalanced = 0.807 recall_balanced = 0.808\n",
      "request recall_unbalanced = 0.897 recall_balanced = 0.898\n",
      "offer recall_unbalanced = 0.995 recall_balanced = 0.995\n",
      "aid_related recall_unbalanced = 0.772 recall_balanced = 0.770\n",
      "medical_help recall_unbalanced = 0.919 recall_balanced = 0.920\n",
      "medical_products recall_unbalanced = 0.954 recall_balanced = 0.954\n",
      "search_and_rescue recall_unbalanced = 0.973 recall_balanced = 0.973\n",
      "security recall_unbalanced = 0.980 recall_balanced = 0.981\n",
      "military recall_unbalanced = 0.965 recall_balanced = 0.965\n",
      "child_alone recall_unbalanced = 1.000 recall_balanced = 1.000\n",
      "water recall_unbalanced = 0.950 recall_balanced = 0.948\n",
      "food recall_unbalanced = 0.935 recall_balanced = 0.928\n",
      "shelter recall_unbalanced = 0.931 recall_balanced = 0.923\n",
      "clothing recall_unbalanced = 0.983 recall_balanced = 0.983\n",
      "money recall_unbalanced = 0.977 recall_balanced = 0.977\n",
      "missing_people recall_unbalanced = 0.987 recall_balanced = 0.987\n",
      "refugees recall_unbalanced = 0.970 recall_balanced = 0.971\n",
      "death recall_unbalanced = 0.957 recall_balanced = 0.955\n",
      "other_aid recall_unbalanced = 0.866 recall_balanced = 0.869\n",
      "infrastructure_related recall_unbalanced = 0.932 recall_balanced = 0.932\n",
      "transport recall_unbalanced = 0.953 recall_balanced = 0.953\n",
      "buildings recall_unbalanced = 0.950 recall_balanced = 0.949\n",
      "electricity recall_unbalanced = 0.981 recall_balanced = 0.980\n",
      "tools recall_unbalanced = 0.994 recall_balanced = 0.994\n",
      "hospitals recall_unbalanced = 0.987 recall_balanced = 0.988\n",
      "shops recall_unbalanced = 0.995 recall_balanced = 0.995\n",
      "aid_centers recall_unbalanced = 0.987 recall_balanced = 0.988\n",
      "other_infrastructure recall_unbalanced = 0.954 recall_balanced = 0.954\n",
      "weather_related recall_unbalanced = 0.873 recall_balanced = 0.870\n",
      "floods recall_unbalanced = 0.942 recall_balanced = 0.926\n",
      "storm recall_unbalanced = 0.933 recall_balanced = 0.924\n",
      "fire recall_unbalanced = 0.987 recall_balanced = 0.988\n",
      "earthquake recall_unbalanced = 0.969 recall_balanced = 0.949\n",
      "cold recall_unbalanced = 0.984 recall_balanced = 0.981\n",
      "other_weather recall_unbalanced = 0.943 recall_balanced = 0.943\n",
      "direct_report recall_unbalanced = 0.867 recall_balanced = 0.869\n"
     ]
    }
   ],
   "source": [
    "for i, column in enumerate(Y.columns):\n",
    "    report_unbalanced = classification_report(y_test[column], y_pred[:,i], output_dict=True, zero_division=0)\n",
    "    report_balanced = classification_report(y_test[column], y_pred_balanced[:,i], output_dict=True, zero_division=0)\n",
    "    try:\n",
    "        print(column, \n",
    "              'recall_unbalanced = {:.3f}'.format(report_unbalanced['weighted avg']['recall']),\n",
    "              'recall_balanced = {:.3f}'.format(report_balanced['weighted avg']['recall']),)\n",
    "    except Exception as err:\n",
    "        print(column, err)"
   ]
  },
  {
   "cell_type": "code",
   "execution_count": 104,
   "metadata": {},
   "outputs": [
    {
     "data": {
      "text/plain": [
       "5972"
      ]
     },
     "execution_count": 104,
     "metadata": {},
     "output_type": "execute_result"
    }
   ],
   "source": [
    "y_pred[:,0].sum()"
   ]
  },
  {
   "cell_type": "markdown",
   "metadata": {},
   "source": [
    "### 9. Export your model as a pickle file"
   ]
  },
  {
   "cell_type": "code",
   "execution_count": 10,
   "metadata": {},
   "outputs": [],
   "source": [
    "pickle.dump(pipeline, open('model.pkl','wb'))"
   ]
  },
  {
   "cell_type": "markdown",
   "metadata": {},
   "source": [
    "### 10. Use this notebook to complete `train.py`\n",
    "Use the template file attached in the Resources folder to write a script that runs the steps above to create a database and export a model based on a new dataset specified by the user."
   ]
  },
  {
   "cell_type": "code",
   "execution_count": null,
   "metadata": {},
   "outputs": [],
   "source": []
  }
 ],
 "metadata": {
  "kernelspec": {
   "display_name": "Python 3",
   "language": "python",
   "name": "python3"
  },
  "language_info": {
   "codemirror_mode": {
    "name": "ipython",
    "version": 3
   },
   "file_extension": ".py",
   "mimetype": "text/x-python",
   "name": "python",
   "nbconvert_exporter": "python",
   "pygments_lexer": "ipython3",
   "version": "3.8.5"
  }
 },
 "nbformat": 4,
 "nbformat_minor": 4
}
